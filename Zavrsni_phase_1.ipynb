{
  "nbformat": 4,
  "nbformat_minor": 0,
  "metadata": {
    "colab": {
      "name": "Zavrsni phase 1.ipynb",
      "provenance": [],
      "collapsed_sections": [
        "1pc_8PErtYwt",
        "xm9LV9kNedUV",
        "8eGbro_uXds7",
        "BkYG7WPRW-7o",
        "uE284w9XWdGN",
        "5LgjKFU5fv4U",
        "c4iV9MClkQYm"
      ],
      "toc_visible": true
    },
    "kernelspec": {
      "name": "python3",
      "display_name": "Python 3"
    },
    "language_info": {
      "name": "python"
    }
  },
  "cells": [
    {
      "cell_type": "markdown",
      "source": [
        "# User intent recognition model\n",
        "\n",
        "Execution time: ~7m (training included) <br />\n",
        "Training time: 3m 21s (2 epochs)"
      ],
      "metadata": {
        "id": "1pc_8PErtYwt"
      }
    },
    {
      "cell_type": "code",
      "metadata": {
        "id": "K31bt551vrbO"
      },
      "source": [
        "!pip install tensorflow_text"
      ],
      "execution_count": null,
      "outputs": []
    },
    {
      "cell_type": "code",
      "source": [
        "!pip install text-hr"
      ],
      "metadata": {
        "id": "_wlHeCsDiWpV"
      },
      "execution_count": null,
      "outputs": []
    },
    {
      "cell_type": "markdown",
      "metadata": {
        "id": "xm9LV9kNedUV"
      },
      "source": [
        "## Data loading\n",
        "\n",
        "- Define the preprocesor and the base model\n",
        "- LaBSE 2 base model used: https://tfhub.dev/google/LaBSE/2\n",
        "- Load the data from published google spreadsheet\n",
        "- Merge categories and Normalize data within them"
      ]
    },
    {
      "cell_type": "code",
      "metadata": {
        "id": "0px9_YjbvyO0"
      },
      "source": [
        "import tensorflow as tf\n",
        "import tensorflow_text as tft\n",
        "import tensorflow_hub as tfh\n",
        "import pandas as pd\n",
        "import numpy as np\n",
        "import seaborn as sns\n",
        "import matplotlib.pyplot as plt"
      ],
      "execution_count": 4,
      "outputs": []
    },
    {
      "cell_type": "code",
      "metadata": {
        "id": "A9p6A3e7vyb0"
      },
      "source": [
        "# Text preprocessor for bert based models\n",
        "preprocessor = tfh.KerasLayer('https://tfhub.dev/google/universal-sentence-encoder-cmlm/multilingual-preprocess/2')\n",
        "\n",
        "# Language Agnostic BERT sentence encoder\n",
        "model = tfh.KerasLayer('https://tfhub.dev/google/LaBSE/2')"
      ],
      "execution_count": 5,
      "outputs": []
    },
    {
      "cell_type": "code",
      "metadata": {
        "id": "8SDAA6v9vyXU"
      },
      "source": [
        "# Read the data from published excel file\n",
        "data = pd.read_excel('https://docs.google.com/spreadsheets/d/e/2PACX-1vRKZziYPXXp-C3-GWkzAdPaWBRgRidy5OYMwt8RCDEzFLczk4MG8hi3e2Glc7EfEw/pub?output=xlsx')"
      ],
      "execution_count": 6,
      "outputs": []
    },
    {
      "cell_type": "code",
      "metadata": {
        "id": "-Od2WTG1vygQ"
      },
      "source": [
        "data.info(verbose=True)"
      ],
      "execution_count": null,
      "outputs": []
    },
    {
      "cell_type": "code",
      "metadata": {
        "id": "adIFwm_1vykL"
      },
      "source": [
        "# Text -> hrvatski text\n",
        "# Action -> vrsta akcije (ne koristim ovdje)\n",
        "# Intent -> 3 classes of intents\n",
        "# Intent -> 5 classes of intents\n",
        "# g_translation -> translation hr->eng using google translator\n",
        "# h_translation -> translation hr->eng manualy   \n",
        "columns = ['text', 'action', 'intent', 'intent02', 'g_translation', 'h_translation']\n",
        "data.columns = columns"
      ],
      "execution_count": 8,
      "outputs": []
    },
    {
      "cell_type": "markdown",
      "source": [
        "### Category merging"
      ],
      "metadata": {
        "id": "8eGbro_uXds7"
      }
    },
    {
      "cell_type": "code",
      "metadata": {
        "id": "AQpmWDh6vypW"
      },
      "source": [
        "# Mark \"Out of domain\" categories\n",
        "data['intent02'][data['intent02'] == 'studomat_problemi'] = 'OOD'\n",
        "data['intent02'][data['intent02'] == 'status_studenta'] = 'OOD'"
      ],
      "execution_count": 9,
      "outputs": []
    },
    {
      "cell_type": "code",
      "metadata": {
        "id": "snUmYxtDvysD"
      },
      "source": [
        "# Convert categories to codes\n",
        "data['intent02'] = data['intent02'].astype('category')\n",
        "data['intent_codes'] = data['intent02'].cat.codes"
      ],
      "execution_count": 10,
      "outputs": []
    },
    {
      "cell_type": "code",
      "metadata": {
        "id": "uYuWGuh-vyvb",
        "colab": {
          "base_uri": "https://localhost:8080/",
          "height": 338
        },
        "outputId": "ab70ec15-ae81-4181-86c8-058d68135de6"
      },
      "source": [
        "# Display the distribution of codes\n",
        "values = data['intent02'].value_counts()\n",
        "plt.stem(values)"
      ],
      "execution_count": 11,
      "outputs": [
        {
          "output_type": "stream",
          "name": "stderr",
          "text": [
            "/usr/local/lib/python3.7/dist-packages/ipykernel_launcher.py:3: UserWarning: In Matplotlib 3.3 individual lines on a stem plot will be added as a LineCollection instead of individual lines. This significantly improves the performance of a stem plot. To remove this warning and switch to the new behaviour, set the \"use_line_collection\" keyword argument to True.\n",
            "  This is separate from the ipykernel package so we can avoid doing imports until\n"
          ]
        },
        {
          "output_type": "execute_result",
          "data": {
            "text/plain": [
              "<StemContainer object of 3 artists>"
            ]
          },
          "metadata": {},
          "execution_count": 11
        },
        {
          "output_type": "display_data",
          "data": {
            "text/plain": [
              "<Figure size 432x288 with 1 Axes>"
            ],
            "image/png": "[encoded data removed]"
          },
          "metadata": {
            "needs_background": "light"
          }
        }
      ]
    },
    {
      "cell_type": "markdown",
      "source": [
        "### Normalize data"
      ],
      "metadata": {
        "id": "BkYG7WPRW-7o"
      }
    },
    {
      "cell_type": "code",
      "metadata": {
        "id": "YEeAgAzLlpbC",
        "colab": {
          "base_uri": "https://localhost:8080/"
        },
        "outputId": "d647f978-84b9-4319-d697-4485a2a8f38f"
      },
      "source": [
        "upis_data = data[data['intent02'] == 'upis_na_sveuciliste']\n",
        "upis_data = upis_data.sample(frac=1, random_state=1234)\n",
        "upis_data = upis_data.sample(40)\n",
        "upis_data.info()"
      ],
      "execution_count": 12,
      "outputs": [
        {
          "output_type": "stream",
          "name": "stdout",
          "text": [
            "<class 'pandas.core.frame.DataFrame'>\n",
            "Int64Index: 40 entries, 17 to 191\n",
            "Data columns (total 7 columns):\n",
            " #   Column         Non-Null Count  Dtype   \n",
            "---  ------         --------------  -----   \n",
            " 0   text           40 non-null     object  \n",
            " 1   action         40 non-null     object  \n",
            " 2   intent         40 non-null     object  \n",
            " 3   intent02       40 non-null     category\n",
            " 4   g_translation  40 non-null     object  \n",
            " 5   h_translation  40 non-null     object  \n",
            " 6   intent_codes   40 non-null     int8    \n",
            "dtypes: category(1), int8(1), object(5)\n",
            "memory usage: 2.2+ KB\n"
          ]
        }
      ]
    },
    {
      "cell_type": "code",
      "metadata": {
        "id": "QLV4-XZflqeq",
        "colab": {
          "base_uri": "https://localhost:8080/"
        },
        "outputId": "10b047a7-d5bc-4c82-be01-1f37e7893f6a"
      },
      "source": [
        "ood_data = data[data['intent02'] == 'OOD']\n",
        "ood_data = ood_data.sample(frac=1, random_state=1234)\n",
        "ood_data = ood_data.sample(40)\n",
        "ood_data.info()"
      ],
      "execution_count": 13,
      "outputs": [
        {
          "output_type": "stream",
          "name": "stdout",
          "text": [
            "<class 'pandas.core.frame.DataFrame'>\n",
            "Int64Index: 40 entries, 180 to 186\n",
            "Data columns (total 7 columns):\n",
            " #   Column         Non-Null Count  Dtype   \n",
            "---  ------         --------------  -----   \n",
            " 0   text           40 non-null     object  \n",
            " 1   action         40 non-null     object  \n",
            " 2   intent         40 non-null     object  \n",
            " 3   intent02       40 non-null     category\n",
            " 4   g_translation  40 non-null     object  \n",
            " 5   h_translation  40 non-null     object  \n",
            " 6   intent_codes   40 non-null     int8    \n",
            "dtypes: category(1), int8(1), object(5)\n",
            "memory usage: 2.2+ KB\n"
          ]
        }
      ]
    },
    {
      "cell_type": "code",
      "metadata": {
        "id": "yeO5grrblqj3",
        "colab": {
          "base_uri": "https://localhost:8080/"
        },
        "outputId": "216a0078-b137-4e29-b80c-7a587d62cdff"
      },
      "source": [
        "data2 = data[(data['intent02'] != 'OOD') & (data['intent02'] != 'upis_na_sveuciliste')]\n",
        "data2.info()"
      ],
      "execution_count": 14,
      "outputs": [
        {
          "output_type": "stream",
          "name": "stdout",
          "text": [
            "<class 'pandas.core.frame.DataFrame'>\n",
            "Int64Index: 98 entries, 54 to 207\n",
            "Data columns (total 7 columns):\n",
            " #   Column         Non-Null Count  Dtype   \n",
            "---  ------         --------------  -----   \n",
            " 0   text           98 non-null     object  \n",
            " 1   action         98 non-null     object  \n",
            " 2   intent         98 non-null     object  \n",
            " 3   intent02       98 non-null     category\n",
            " 4   g_translation  98 non-null     object  \n",
            " 5   h_translation  98 non-null     object  \n",
            " 6   intent_codes   98 non-null     int8    \n",
            "dtypes: category(1), int8(1), object(5)\n",
            "memory usage: 5.0+ KB\n"
          ]
        }
      ]
    },
    {
      "cell_type": "code",
      "metadata": {
        "id": "b3ggX0Xclqnr"
      },
      "source": [
        "data2 = data2.append(upis_data, ignore_index=True)\n",
        "data2 = data2.append(ood_data, ignore_index=True)"
      ],
      "execution_count": 15,
      "outputs": []
    },
    {
      "cell_type": "code",
      "metadata": {
        "id": "-VAxT_U1Aavj",
        "colab": {
          "base_uri": "https://localhost:8080/",
          "height": 338
        },
        "outputId": "cf7d834b-41f3-46ca-e6cd-10a64b176184"
      },
      "source": [
        "values = data2['intent02'].value_counts()\n",
        "plt.stem(values)"
      ],
      "execution_count": 16,
      "outputs": [
        {
          "output_type": "stream",
          "name": "stderr",
          "text": [
            "/usr/local/lib/python3.7/dist-packages/ipykernel_launcher.py:2: UserWarning: In Matplotlib 3.3 individual lines on a stem plot will be added as a LineCollection instead of individual lines. This significantly improves the performance of a stem plot. To remove this warning and switch to the new behaviour, set the \"use_line_collection\" keyword argument to True.\n",
            "  \n"
          ]
        },
        {
          "output_type": "execute_result",
          "data": {
            "text/plain": [
              "<StemContainer object of 3 artists>"
            ]
          },
          "metadata": {},
          "execution_count": 16
        },
        {
          "output_type": "display_data",
          "data": {
            "text/plain": [
              "<Figure size 432x288 with 1 Axes>"
            ],
            "image/png": "[encoded data removed]"
          },
          "metadata": {
            "needs_background": "light"
          }
        }
      ]
    },
    {
      "cell_type": "code",
      "metadata": {
        "id": "Ci-zXPoelqrz"
      },
      "source": [
        "data = data2"
      ],
      "execution_count": 17,
      "outputs": []
    },
    {
      "cell_type": "markdown",
      "metadata": {
        "id": "uE284w9XWdGN"
      },
      "source": [
        "## Text preprocessing\n",
        "\n",
        "1. Remove punctuation\n",
        "2. Lowercase the text\n",
        "3. Apply tokenization\n",
        "4. Remove stopwords\n",
        "5. Apply lemmatizer"
      ]
    },
    {
      "cell_type": "code",
      "metadata": {
        "id": "JhnQy4t77ETl"
      },
      "source": [
        "import string\n",
        "import re\n",
        "import nltk\n",
        "import text_hr\n",
        "\n",
        "nltk.download('stopwords')\n",
        "nltk.download('wordnet')\n",
        "nltk.download('omw-1.4')\n",
        "from nltk.stem.porter import PorterStemmer\n",
        "from nltk.stem import WordNetLemmatizer"
      ],
      "execution_count": null,
      "outputs": []
    },
    {
      "cell_type": "code",
      "metadata": {
        "id": "X2nix_nE7EXl"
      },
      "source": [
        "def remove_punctuation(text):\n",
        "    return \"\".join([i for i in text if i not in string.punctuation])\n",
        "\n",
        "def tokenization(text):\n",
        "    return re.split(r\"\\s+\",text)\n",
        "\n",
        "stopwords = nltk.corpus.stopwords.words('english')\n",
        "def remove_stopwords(text):\n",
        "    return [i for i in text if i not in stopwords]\n",
        "\n",
        "porter_stemmer = PorterStemmer()\n",
        "def stemming(text):\n",
        "    return [porter_stemmer.stem(word) for word in text]\n",
        "\n",
        "wordnet_lemmatizer = WordNetLemmatizer()\n",
        "def lemmatizer(text):\n",
        "    return [wordnet_lemmatizer.lemmatize(word) for word in text]"
      ],
      "execution_count": 26,
      "outputs": []
    },
    {
      "cell_type": "code",
      "metadata": {
        "id": "wmVEW3iST4s-"
      },
      "source": [
        "data['g_translation'] = data['g_translation']\\\n",
        "    .apply(lambda x: remove_punctuation(x))\\\n",
        "    .apply(lambda x: x.lower())\\\n",
        "    .apply(lambda x: tokenization(x))\\\n",
        "    .apply(lambda x: remove_stopwords(x))\\\n",
        "    .apply(lambda x: lemmatizer(x))"
      ],
      "execution_count": 27,
      "outputs": []
    },
    {
      "cell_type": "code",
      "source": [
        "data[['text', 'g_translation']].head()"
      ],
      "metadata": {
        "id": "2RmQcRf4f6x5"
      },
      "execution_count": null,
      "outputs": []
    },
    {
      "cell_type": "code",
      "metadata": {
        "id": "0EaJ0FwSVXdj"
      },
      "source": [
        "stop_words_list_hr = []\n",
        "for word_base, l_key, cnt, _suff_id, wform_key, wform in text_hr.get_all_std_words():\n",
        "    if word_base is not None: stop_words_list_hr.append(word_base)\n",
        "    if wform is not None: stop_words_list_hr.append(wform)"
      ],
      "execution_count": 29,
      "outputs": []
    },
    {
      "cell_type": "code",
      "metadata": {
        "id": "ocHP8DanXTZb"
      },
      "source": [
        "stop_words_list_hr = list(dict.fromkeys(stop_words_list_hr))\n",
        "len(stop_words_list_hr)"
      ],
      "execution_count": null,
      "outputs": []
    },
    {
      "cell_type": "code",
      "metadata": {
        "id": "_ayyppnMU50C"
      },
      "source": [
        "def remove_stopwords_hr(text):\n",
        "    output = [i for i in text if i not in stop_words_list_hr]\n",
        "    return output"
      ],
      "execution_count": 31,
      "outputs": []
    },
    {
      "cell_type": "code",
      "metadata": {
        "id": "mReIAe_zXnRL"
      },
      "source": [
        "data['text'] = data['text'].apply(lambda x: remove_stopwords_hr(x))"
      ],
      "execution_count": 32,
      "outputs": []
    },
    {
      "cell_type": "code",
      "metadata": {
        "id": "hySD0o55Y9Pa"
      },
      "source": [
        "data[['text','g_translation', 'h_translation']].head()"
      ],
      "execution_count": null,
      "outputs": []
    },
    {
      "cell_type": "code",
      "metadata": {
        "id": "ktpZY3yJiW1L"
      },
      "source": [
        "data['text'] = data['text'].str.join(\" \")\n",
        "data['g_translation'] = data['g_translation'].str.join(\" \")\n",
        "data['text'].head()"
      ],
      "execution_count": null,
      "outputs": []
    },
    {
      "cell_type": "code",
      "metadata": {
        "id": "wjyTlZAFjhHB"
      },
      "source": [
        "data.head()"
      ],
      "execution_count": null,
      "outputs": []
    },
    {
      "cell_type": "markdown",
      "metadata": {
        "id": "5LgjKFU5fv4U"
      },
      "source": [
        "## Split validation and training data\n",
        "\n",
        "Train 75%, validation 25%"
      ]
    },
    {
      "cell_type": "code",
      "source": [
        "codes = data['intent_codes'].unique()\n",
        "\n",
        "# Variable to understand the meaning behind codes\n",
        "CODES_REPR = data[[\"intent_codes\", \"intent02\"]].drop_duplicates().sort_values(\"intent_codes\")"
      ],
      "metadata": {
        "id": "-IcJciEl3cLG"
      },
      "execution_count": null,
      "outputs": []
    },
    {
      "cell_type": "code",
      "metadata": {
        "id": "PoEvgaANe7yL"
      },
      "source": [
        "preprocessed_validation_data = pd.DataFrame(columns=data.columns)\n",
        "preprocessed_train_data = pd.DataFrame(columns=data.columns)\n",
        "\n",
        "for c in codes:\n",
        "    sample = data[data['intent_codes'] == c]\n",
        "    sample = sample.sample(frac=1)\n",
        "    val = sample.sample(frac=0.25)\n",
        "    train = pd.concat([sample, val]).drop_duplicates(keep=False)\n",
        "    preprocessed_validation_data = preprocessed_validation_data.append(val, ignore_index=True)\n",
        "    preprocessed_train_data = preprocessed_train_data.append(train, ignore_index=True)"
      ],
      "execution_count": 36,
      "outputs": []
    },
    {
      "cell_type": "code",
      "metadata": {
        "id": "g1mDKCnXe714"
      },
      "source": [
        "# Preprocessed google translation data\n",
        "train_data_eng = preprocessed_train_data[['g_translation', 'intent_codes']]\n",
        "train_data_eng.columns = ['text', 'intent_codes']\n",
        "\n",
        "validation_data_eng = preprocessed_validation_data[['g_translation', 'intent_codes']]\n",
        "validation_data_eng.columns = ['text', 'intent_codes']"
      ],
      "execution_count": 37,
      "outputs": []
    },
    {
      "cell_type": "code",
      "source": [
        "def df_to_dataset(df, shuffle=True, batch_size=16):\n",
        "    df = df.copy()\n",
        "    labels = df.pop('intent_codes')\n",
        "    lables_cat = tf.keras.utils.to_categorical(labels, 5)\n",
        "    dataset = tf.data.Dataset.from_tensor_slices((dict(df), lables_cat))\n",
        "    if shuffle:\n",
        "        dataset = dataset.shuffle(buffer_size=len(df))\n",
        "    dataset = dataset.batch(batch_size).prefetch(batch_size)\n",
        "    return dataset"
      ],
      "metadata": {
        "id": "44z_8fgy1zch"
      },
      "execution_count": null,
      "outputs": []
    },
    {
      "cell_type": "code",
      "metadata": {
        "id": "_ZM8jhIrj_eh"
      },
      "source": [
        "train_data_eng = df_to_dataset(train_data_eng)\n",
        "validation_data_eng = df_to_dataset(validation_data_eng)"
      ],
      "execution_count": 38,
      "outputs": []
    },
    {
      "cell_type": "markdown",
      "metadata": {
        "id": "c4iV9MClkQYm"
      },
      "source": [
        "## Model definition and training\n",
        "\n",
        "2 epochs training (testing purposes)"
      ]
    },
    {
      "cell_type": "code",
      "metadata": {
        "id": "lLuKBFDQaE3T"
      },
      "source": [
        "# Model builder\n",
        "def model_build():\n",
        "    inputs = tf.keras.layers.Input(shape=(), dtype=tf.string, name='text')\n",
        "    encoded_input = preprocessor(inputs)\n",
        "    encoder_outputs = model(encoded_input)\n",
        "\n",
        "    x = encoder_outputs['pooled_output']\n",
        "    x = tf.keras.layers.Dropout(0.1)(x)\n",
        "    x = tf.keras.layers.Dense(128, activation='relu')(x)\n",
        "    x = tf.keras.layers.Dropout(0.7)(x)\n",
        "    outputs = tf.keras.layers.Dense(5, activation='softmax', name='classifier')(x)\n",
        "    \n",
        "    return tf.keras.Model(inputs, outputs)\n",
        "\n",
        "# Build a model with preprocessed data \n",
        "model_eng = model_build()\n",
        "model_eng.compile(\n",
        "    optimizer = tf.keras.optimizers.Adam(0.001),\n",
        "    loss = tf.keras.losses.CategoricalCrossentropy(from_logits=True),\n",
        "    metrics = tf.keras.metrics.CategoricalAccuracy()\n",
        ")\n",
        "\n",
        "eng_history = model_eng.fit(\n",
        "    train_data_eng,\n",
        "    epochs = 2,\n",
        "    batch_size = 16,\n",
        "    validation_data = validation_data_eng\n",
        ")"
      ],
      "execution_count": null,
      "outputs": []
    },
    {
      "cell_type": "markdown",
      "source": [
        "# Using the model\n",
        "\n",
        "In progress..."
      ],
      "metadata": {
        "id": "L_YBAEoYNNRg"
      }
    },
    {
      "cell_type": "code",
      "source": [
        "def predict_intent(text: str) -> str:\n",
        "    \"\"\" Predict the text intent based on the abovetrained model \"\"\"\n",
        "    y_pred = model_eng.predict([text])\n",
        "    return CODES_REPR[CODES_REPR[\"intent_codes\"] == y_pred.argmax()].iloc[0][\"intent02\"]"
      ],
      "metadata": {
        "id": "dHkY7dE17OAN"
      },
      "execution_count": 89,
      "outputs": []
    },
    {
      "cell_type": "code",
      "source": [
        "predict_intent(\"How to submit the final paper\")"
      ],
      "metadata": {
        "colab": {
          "base_uri": "https://localhost:8080/",
          "height": 53
        },
        "id": "1aUBhTD9xdkj",
        "outputId": "47bd5857-48ca-49b1-977b-b0eeff39d261"
      },
      "execution_count": 90,
      "outputs": [
        {
          "output_type": "stream",
          "name": "stdout",
          "text": [
            "1/1 [==============================] - 1s 719ms/step\n"
          ]
        },
        {
          "output_type": "execute_result",
          "data": {
            "text/plain": [
              "'prijava_zavrsnog'"
            ],
            "application/vnd.google.colaboratory.intrinsic+json": {
              "type": "string"
            }
          },
          "metadata": {},
          "execution_count": 90
        }
      ]
    }
  ]
}