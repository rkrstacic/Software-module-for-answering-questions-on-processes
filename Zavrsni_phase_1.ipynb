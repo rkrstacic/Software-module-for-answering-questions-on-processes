{
  "nbformat": 4,
  "nbformat_minor": 0,
  "metadata": {
    "colab": {
      "name": "Zavrsni phase 1.ipynb",
      "provenance": [],
      "collapsed_sections": [
        "1pc_8PErtYwt",
        "xm9LV9kNedUV",
        "uE284w9XWdGN",
        "5LgjKFU5fv4U",
        "c4iV9MClkQYm",
        "a49M821AEfPq",
        "vitUqZeCS4AC",
        "pWmOxUgmbQZY",
        "ucyghRjgPTee",
        "dtA39kq7tiha",
        "L_YBAEoYNNRg",
        "KNr5OujotZb8"
      ]
    },
    "kernelspec": {
      "name": "python3",
      "display_name": "Python 3"
    },
    "language_info": {
      "name": "python"
    },
    "widgets": {
      "application/vnd.jupyter.widget-state+json": {
        "f7d8010d8c2548d68bcd6a452b55626e": {
          "model_module": "@jupyter-widgets/controls",
          "model_name": "HBoxModel",
          "model_module_version": "1.5.0",
          "state": {
            "_dom_classes": [],
            "_model_module": "@jupyter-widgets/controls",
            "_model_module_version": "1.5.0",
            "_model_name": "HBoxModel",
            "_view_count": null,
            "_view_module": "@jupyter-widgets/controls",
            "_view_module_version": "1.5.0",
            "_view_name": "HBoxView",
            "box_style": "",
            "children": [
              "IPY_MODEL_d3210134da66467ab960a786ddb90dd5",
              "IPY_MODEL_64c7448cbdc44f849435ab15551ed790",
              "IPY_MODEL_f8aef7f140bd4477b4a872c1bf574a40"
            ],
            "layout": "IPY_MODEL_f8cdc8f2de7b4f238a50be3906e12c4c"
          }
        },
        "d3210134da66467ab960a786ddb90dd5": {
          "model_module": "@jupyter-widgets/controls",
          "model_name": "HTMLModel",
          "model_module_version": "1.5.0",
          "state": {
            "_dom_classes": [],
            "_model_module": "@jupyter-widgets/controls",
            "_model_module_version": "1.5.0",
            "_model_name": "HTMLModel",
            "_view_count": null,
            "_view_module": "@jupyter-widgets/controls",
            "_view_module_version": "1.5.0",
            "_view_name": "HTMLView",
            "description": "",
            "description_tooltip": null,
            "layout": "IPY_MODEL_4e11f2c584854a9495b2d1b1f3f9272b",
            "placeholder": "​",
            "style": "IPY_MODEL_c866c89dbe864cf3aad5afa1fd009072",
            "value": "Downloading pytorch_model.bin: 100%"
          }
        },
        "64c7448cbdc44f849435ab15551ed790": {
          "model_module": "@jupyter-widgets/controls",
          "model_name": "FloatProgressModel",
          "model_module_version": "1.5.0",
          "state": {
            "_dom_classes": [],
            "_model_module": "@jupyter-widgets/controls",
            "_model_module_version": "1.5.0",
            "_model_name": "FloatProgressModel",
            "_view_count": null,
            "_view_module": "@jupyter-widgets/controls",
            "_view_module_version": "1.5.0",
            "_view_name": "ProgressView",
            "bar_style": "success",
            "description": "",
            "description_tooltip": null,
            "layout": "IPY_MODEL_70440d67a9414b5ab1c63e62ef08d43b",
            "max": 440227047,
            "min": 0,
            "orientation": "horizontal",
            "style": "IPY_MODEL_12ba8d740c4f416fb7347c0783d37d8c",
            "value": 440227047
          }
        },
        "f8aef7f140bd4477b4a872c1bf574a40": {
          "model_module": "@jupyter-widgets/controls",
          "model_name": "HTMLModel",
          "model_module_version": "1.5.0",
          "state": {
            "_dom_classes": [],
            "_model_module": "@jupyter-widgets/controls",
            "_model_module_version": "1.5.0",
            "_model_name": "HTMLModel",
            "_view_count": null,
            "_view_module": "@jupyter-widgets/controls",
            "_view_module_version": "1.5.0",
            "_view_name": "HTMLView",
            "description": "",
            "description_tooltip": null,
            "layout": "IPY_MODEL_86d3151dec9f4348bd43439bfd35d613",
            "placeholder": "​",
            "style": "IPY_MODEL_0a5c3af07b4f4b2197357faf7f4f3858",
            "value": " 420M/420M [00:25&lt;00:00, 37.2MB/s]"
          }
        },
        "f8cdc8f2de7b4f238a50be3906e12c4c": {
          "model_module": "@jupyter-widgets/base",
          "model_name": "LayoutModel",
          "model_module_version": "1.2.0",
          "state": {
            "_model_module": "@jupyter-widgets/base",
            "_model_module_version": "1.2.0",
            "_model_name": "LayoutModel",
            "_view_count": null,
            "_view_module": "@jupyter-widgets/base",
            "_view_module_version": "1.2.0",
            "_view_name": "LayoutView",
            "align_content": null,
            "align_items": null,
            "align_self": null,
            "border": null,
            "bottom": null,
            "display": null,
            "flex": null,
            "flex_flow": null,
            "grid_area": null,
            "grid_auto_columns": null,
            "grid_auto_flow": null,
            "grid_auto_rows": null,
            "grid_column": null,
            "grid_gap": null,
            "grid_row": null,
            "grid_template_areas": null,
            "grid_template_columns": null,
            "grid_template_rows": null,
            "height": null,
            "justify_content": null,
            "justify_items": null,
            "left": null,
            "margin": null,
            "max_height": null,
            "max_width": null,
            "min_height": null,
            "min_width": null,
            "object_fit": null,
            "object_position": null,
            "order": null,
            "overflow": null,
            "overflow_x": null,
            "overflow_y": null,
            "padding": null,
            "right": null,
            "top": null,
            "visibility": null,
            "width": null
          }
        },
        "4e11f2c584854a9495b2d1b1f3f9272b": {
          "model_module": "@jupyter-widgets/base",
          "model_name": "LayoutModel",
          "model_module_version": "1.2.0",
          "state": {
            "_model_module": "@jupyter-widgets/base",
            "_model_module_version": "1.2.0",
            "_model_name": "LayoutModel",
            "_view_count": null,
            "_view_module": "@jupyter-widgets/base",
            "_view_module_version": "1.2.0",
            "_view_name": "LayoutView",
            "align_content": null,
            "align_items": null,
            "align_self": null,
            "border": null,
            "bottom": null,
            "display": null,
            "flex": null,
            "flex_flow": null,
            "grid_area": null,
            "grid_auto_columns": null,
            "grid_auto_flow": null,
            "grid_auto_rows": null,
            "grid_column": null,
            "grid_gap": null,
            "grid_row": null,
            "grid_template_areas": null,
            "grid_template_columns": null,
            "grid_template_rows": null,
            "height": null,
            "justify_content": null,
            "justify_items": null,
            "left": null,
            "margin": null,
            "max_height": null,
            "max_width": null,
            "min_height": null,
            "min_width": null,
            "object_fit": null,
            "object_position": null,
            "order": null,
            "overflow": null,
            "overflow_x": null,
            "overflow_y": null,
            "padding": null,
            "right": null,
            "top": null,
            "visibility": null,
            "width": null
          }
        },
        "c866c89dbe864cf3aad5afa1fd009072": {
          "model_module": "@jupyter-widgets/controls",
          "model_name": "DescriptionStyleModel",
          "model_module_version": "1.5.0",
          "state": {
            "_model_module": "@jupyter-widgets/controls",
            "_model_module_version": "1.5.0",
            "_model_name": "DescriptionStyleModel",
            "_view_count": null,
            "_view_module": "@jupyter-widgets/base",
            "_view_module_version": "1.2.0",
            "_view_name": "StyleView",
            "description_width": ""
          }
        },
        "70440d67a9414b5ab1c63e62ef08d43b": {
          "model_module": "@jupyter-widgets/base",
          "model_name": "LayoutModel",
          "model_module_version": "1.2.0",
          "state": {
            "_model_module": "@jupyter-widgets/base",
            "_model_module_version": "1.2.0",
            "_model_name": "LayoutModel",
            "_view_count": null,
            "_view_module": "@jupyter-widgets/base",
            "_view_module_version": "1.2.0",
            "_view_name": "LayoutView",
            "align_content": null,
            "align_items": null,
            "align_self": null,
            "border": null,
            "bottom": null,
            "display": null,
            "flex": null,
            "flex_flow": null,
            "grid_area": null,
            "grid_auto_columns": null,
            "grid_auto_flow": null,
            "grid_auto_rows": null,
            "grid_column": null,
            "grid_gap": null,
            "grid_row": null,
            "grid_template_areas": null,
            "grid_template_columns": null,
            "grid_template_rows": null,
            "height": null,
            "justify_content": null,
            "justify_items": null,
            "left": null,
            "margin": null,
            "max_height": null,
            "max_width": null,
            "min_height": null,
            "min_width": null,
            "object_fit": null,
            "object_position": null,
            "order": null,
            "overflow": null,
            "overflow_x": null,
            "overflow_y": null,
            "padding": null,
            "right": null,
            "top": null,
            "visibility": null,
            "width": null
          }
        },
        "12ba8d740c4f416fb7347c0783d37d8c": {
          "model_module": "@jupyter-widgets/controls",
          "model_name": "ProgressStyleModel",
          "model_module_version": "1.5.0",
          "state": {
            "_model_module": "@jupyter-widgets/controls",
            "_model_module_version": "1.5.0",
            "_model_name": "ProgressStyleModel",
            "_view_count": null,
            "_view_module": "@jupyter-widgets/base",
            "_view_module_version": "1.2.0",
            "_view_name": "StyleView",
            "bar_color": null,
            "description_width": ""
          }
        },
        "86d3151dec9f4348bd43439bfd35d613": {
          "model_module": "@jupyter-widgets/base",
          "model_name": "LayoutModel",
          "model_module_version": "1.2.0",
          "state": {
            "_model_module": "@jupyter-widgets/base",
            "_model_module_version": "1.2.0",
            "_model_name": "LayoutModel",
            "_view_count": null,
            "_view_module": "@jupyter-widgets/base",
            "_view_module_version": "1.2.0",
            "_view_name": "LayoutView",
            "align_content": null,
            "align_items": null,
            "align_self": null,
            "border": null,
            "bottom": null,
            "display": null,
            "flex": null,
            "flex_flow": null,
            "grid_area": null,
            "grid_auto_columns": null,
            "grid_auto_flow": null,
            "grid_auto_rows": null,
            "grid_column": null,
            "grid_gap": null,
            "grid_row": null,
            "grid_template_areas": null,
            "grid_template_columns": null,
            "grid_template_rows": null,
            "height": null,
            "justify_content": null,
            "justify_items": null,
            "left": null,
            "margin": null,
            "max_height": null,
            "max_width": null,
            "min_height": null,
            "min_width": null,
            "object_fit": null,
            "object_position": null,
            "order": null,
            "overflow": null,
            "overflow_x": null,
            "overflow_y": null,
            "padding": null,
            "right": null,
            "top": null,
            "visibility": null,
            "width": null
          }
        },
        "0a5c3af07b4f4b2197357faf7f4f3858": {
          "model_module": "@jupyter-widgets/controls",
          "model_name": "DescriptionStyleModel",
          "model_module_version": "1.5.0",
          "state": {
            "_model_module": "@jupyter-widgets/controls",
            "_model_module_version": "1.5.0",
            "_model_name": "DescriptionStyleModel",
            "_view_count": null,
            "_view_module": "@jupyter-widgets/base",
            "_view_module_version": "1.2.0",
            "_view_name": "StyleView",
            "description_width": ""
          }
        },
        "7c1e2933cf42498eb544184e0d383f86": {
          "model_module": "@jupyter-widgets/controls",
          "model_name": "HBoxModel",
          "model_module_version": "1.5.0",
          "state": {
            "_dom_classes": [],
            "_model_module": "@jupyter-widgets/controls",
            "_model_module_version": "1.5.0",
            "_model_name": "HBoxModel",
            "_view_count": null,
            "_view_module": "@jupyter-widgets/controls",
            "_view_module_version": "1.5.0",
            "_view_name": "HBoxView",
            "box_style": "",
            "children": [
              "IPY_MODEL_875f8043bf7d494ab7a0ff1048ea8974",
              "IPY_MODEL_503ccbc86ca84405b46956310b63c181",
              "IPY_MODEL_947013a1a77744399355fffd3a00bfe4"
            ],
            "layout": "IPY_MODEL_9e0ef7d3147248ac93f95d210dfbc3ad"
          }
        },
        "875f8043bf7d494ab7a0ff1048ea8974": {
          "model_module": "@jupyter-widgets/controls",
          "model_name": "HTMLModel",
          "model_module_version": "1.5.0",
          "state": {
            "_dom_classes": [],
            "_model_module": "@jupyter-widgets/controls",
            "_model_module_version": "1.5.0",
            "_model_name": "HTMLModel",
            "_view_count": null,
            "_view_module": "@jupyter-widgets/controls",
            "_view_module_version": "1.5.0",
            "_view_name": "HTMLView",
            "description": "",
            "description_tooltip": null,
            "layout": "IPY_MODEL_923ac00dc526418ab4ddf407c078d283",
            "placeholder": "​",
            "style": "IPY_MODEL_14648d6d07a14803ae234d6c7737a4f0",
            "value": "100%"
          }
        },
        "503ccbc86ca84405b46956310b63c181": {
          "model_module": "@jupyter-widgets/controls",
          "model_name": "FloatProgressModel",
          "model_module_version": "1.5.0",
          "state": {
            "_dom_classes": [],
            "_model_module": "@jupyter-widgets/controls",
            "_model_module_version": "1.5.0",
            "_model_name": "FloatProgressModel",
            "_view_count": null,
            "_view_module": "@jupyter-widgets/controls",
            "_view_module_version": "1.5.0",
            "_view_name": "ProgressView",
            "bar_style": "success",
            "description": "",
            "description_tooltip": null,
            "layout": "IPY_MODEL_566039d2b70c40ec9cfc26f631bd25e3",
            "max": 3,
            "min": 0,
            "orientation": "horizontal",
            "style": "IPY_MODEL_13927e8f73de46408f59e31a9fdc269f",
            "value": 3
          }
        },
        "947013a1a77744399355fffd3a00bfe4": {
          "model_module": "@jupyter-widgets/controls",
          "model_name": "HTMLModel",
          "model_module_version": "1.5.0",
          "state": {
            "_dom_classes": [],
            "_model_module": "@jupyter-widgets/controls",
            "_model_module_version": "1.5.0",
            "_model_name": "HTMLModel",
            "_view_count": null,
            "_view_module": "@jupyter-widgets/controls",
            "_view_module_version": "1.5.0",
            "_view_name": "HTMLView",
            "description": "",
            "description_tooltip": null,
            "layout": "IPY_MODEL_705258550d1f43ef9022b3d35ae057e4",
            "placeholder": "​",
            "style": "IPY_MODEL_ec80d4265c1544c9a73a5b5f89d7d053",
            "value": " 3/3 [00:00&lt;00:00, 44.94it/s]"
          }
        },
        "9e0ef7d3147248ac93f95d210dfbc3ad": {
          "model_module": "@jupyter-widgets/base",
          "model_name": "LayoutModel",
          "model_module_version": "1.2.0",
          "state": {
            "_model_module": "@jupyter-widgets/base",
            "_model_module_version": "1.2.0",
            "_model_name": "LayoutModel",
            "_view_count": null,
            "_view_module": "@jupyter-widgets/base",
            "_view_module_version": "1.2.0",
            "_view_name": "LayoutView",
            "align_content": null,
            "align_items": null,
            "align_self": null,
            "border": null,
            "bottom": null,
            "display": null,
            "flex": null,
            "flex_flow": null,
            "grid_area": null,
            "grid_auto_columns": null,
            "grid_auto_flow": null,
            "grid_auto_rows": null,
            "grid_column": null,
            "grid_gap": null,
            "grid_row": null,
            "grid_template_areas": null,
            "grid_template_columns": null,
            "grid_template_rows": null,
            "height": null,
            "justify_content": null,
            "justify_items": null,
            "left": null,
            "margin": null,
            "max_height": null,
            "max_width": null,
            "min_height": null,
            "min_width": null,
            "object_fit": null,
            "object_position": null,
            "order": null,
            "overflow": null,
            "overflow_x": null,
            "overflow_y": null,
            "padding": null,
            "right": null,
            "top": null,
            "visibility": null,
            "width": null
          }
        },
        "923ac00dc526418ab4ddf407c078d283": {
          "model_module": "@jupyter-widgets/base",
          "model_name": "LayoutModel",
          "model_module_version": "1.2.0",
          "state": {
            "_model_module": "@jupyter-widgets/base",
            "_model_module_version": "1.2.0",
            "_model_name": "LayoutModel",
            "_view_count": null,
            "_view_module": "@jupyter-widgets/base",
            "_view_module_version": "1.2.0",
            "_view_name": "LayoutView",
            "align_content": null,
            "align_items": null,
            "align_self": null,
            "border": null,
            "bottom": null,
            "display": null,
            "flex": null,
            "flex_flow": null,
            "grid_area": null,
            "grid_auto_columns": null,
            "grid_auto_flow": null,
            "grid_auto_rows": null,
            "grid_column": null,
            "grid_gap": null,
            "grid_row": null,
            "grid_template_areas": null,
            "grid_template_columns": null,
            "grid_template_rows": null,
            "height": null,
            "justify_content": null,
            "justify_items": null,
            "left": null,
            "margin": null,
            "max_height": null,
            "max_width": null,
            "min_height": null,
            "min_width": null,
            "object_fit": null,
            "object_position": null,
            "order": null,
            "overflow": null,
            "overflow_x": null,
            "overflow_y": null,
            "padding": null,
            "right": null,
            "top": null,
            "visibility": null,
            "width": null
          }
        },
        "14648d6d07a14803ae234d6c7737a4f0": {
          "model_module": "@jupyter-widgets/controls",
          "model_name": "DescriptionStyleModel",
          "model_module_version": "1.5.0",
          "state": {
            "_model_module": "@jupyter-widgets/controls",
            "_model_module_version": "1.5.0",
            "_model_name": "DescriptionStyleModel",
            "_view_count": null,
            "_view_module": "@jupyter-widgets/base",
            "_view_module_version": "1.2.0",
            "_view_name": "StyleView",
            "description_width": ""
          }
        },
        "566039d2b70c40ec9cfc26f631bd25e3": {
          "model_module": "@jupyter-widgets/base",
          "model_name": "LayoutModel",
          "model_module_version": "1.2.0",
          "state": {
            "_model_module": "@jupyter-widgets/base",
            "_model_module_version": "1.2.0",
            "_model_name": "LayoutModel",
            "_view_count": null,
            "_view_module": "@jupyter-widgets/base",
            "_view_module_version": "1.2.0",
            "_view_name": "LayoutView",
            "align_content": null,
            "align_items": null,
            "align_self": null,
            "border": null,
            "bottom": null,
            "display": null,
            "flex": null,
            "flex_flow": null,
            "grid_area": null,
            "grid_auto_columns": null,
            "grid_auto_flow": null,
            "grid_auto_rows": null,
            "grid_column": null,
            "grid_gap": null,
            "grid_row": null,
            "grid_template_areas": null,
            "grid_template_columns": null,
            "grid_template_rows": null,
            "height": null,
            "justify_content": null,
            "justify_items": null,
            "left": null,
            "margin": null,
            "max_height": null,
            "max_width": null,
            "min_height": null,
            "min_width": null,
            "object_fit": null,
            "object_position": null,
            "order": null,
            "overflow": null,
            "overflow_x": null,
            "overflow_y": null,
            "padding": null,
            "right": null,
            "top": null,
            "visibility": null,
            "width": null
          }
        },
        "13927e8f73de46408f59e31a9fdc269f": {
          "model_module": "@jupyter-widgets/controls",
          "model_name": "ProgressStyleModel",
          "model_module_version": "1.5.0",
          "state": {
            "_model_module": "@jupyter-widgets/controls",
            "_model_module_version": "1.5.0",
            "_model_name": "ProgressStyleModel",
            "_view_count": null,
            "_view_module": "@jupyter-widgets/base",
            "_view_module_version": "1.2.0",
            "_view_name": "StyleView",
            "bar_color": null,
            "description_width": ""
          }
        },
        "705258550d1f43ef9022b3d35ae057e4": {
          "model_module": "@jupyter-widgets/base",
          "model_name": "LayoutModel",
          "model_module_version": "1.2.0",
          "state": {
            "_model_module": "@jupyter-widgets/base",
            "_model_module_version": "1.2.0",
            "_model_name": "LayoutModel",
            "_view_count": null,
            "_view_module": "@jupyter-widgets/base",
            "_view_module_version": "1.2.0",
            "_view_name": "LayoutView",
            "align_content": null,
            "align_items": null,
            "align_self": null,
            "border": null,
            "bottom": null,
            "display": null,
            "flex": null,
            "flex_flow": null,
            "grid_area": null,
            "grid_auto_columns": null,
            "grid_auto_flow": null,
            "grid_auto_rows": null,
            "grid_column": null,
            "grid_gap": null,
            "grid_row": null,
            "grid_template_areas": null,
            "grid_template_columns": null,
            "grid_template_rows": null,
            "height": null,
            "justify_content": null,
            "justify_items": null,
            "left": null,
            "margin": null,
            "max_height": null,
            "max_width": null,
            "min_height": null,
            "min_width": null,
            "object_fit": null,
            "object_position": null,
            "order": null,
            "overflow": null,
            "overflow_x": null,
            "overflow_y": null,
            "padding": null,
            "right": null,
            "top": null,
            "visibility": null,
            "width": null
          }
        },
        "ec80d4265c1544c9a73a5b5f89d7d053": {
          "model_module": "@jupyter-widgets/controls",
          "model_name": "DescriptionStyleModel",
          "model_module_version": "1.5.0",
          "state": {
            "_model_module": "@jupyter-widgets/controls",
            "_model_module_version": "1.5.0",
            "_model_name": "DescriptionStyleModel",
            "_view_count": null,
            "_view_module": "@jupyter-widgets/base",
            "_view_module_version": "1.2.0",
            "_view_name": "StyleView",
            "description_width": ""
          }
        }
      }
    },
    "accelerator": "GPU",
    "gpuClass": "standard"
  },
  "cells": [
    {
      "cell_type": "markdown",
      "source": [
        "# User intent recognition model\n",
        "Source: https://github.com/AldoF95/intent_recognition_masters_thesis\n",
        "\n",
        "`!pip install tensorflow_text` requires runtime restart\n",
        "\n",
        "CPU Training time\n",
        "- ~~Execution time: ~4m (training included)~~\n",
        "- ~~Training time: 2m (2 epochs)~~\n",
        "\n",
        "GPU Training time\n",
        "- ~~Execution time: ~2m (training included)>~~\n",
        "- ~~Training time: 40s (2 epochs)~~\n",
        "\n"
      ],
      "metadata": {
        "id": "1pc_8PErtYwt"
      }
    },
    {
      "cell_type": "code",
      "source": [
        "# Define training epochs\n",
        "training_epochs = 10\n",
        "\n",
        "# Define dataset URL for training (old published excel file)\n",
        "UIDatasetURL_ = 'https://docs.google.com/spreadsheets/d/e/2PACX-1vRKZziYPXXp-C3-GWkzAdPaWBRgRidy5OYMwt8RCDEzFLczk4MG8hi3e2Glc7EfEw/pub?output=xlsx'\n",
        "\n",
        "# Define dataset URL for training (new published excel file)\n",
        "UIDatasetURL = 'https://docs.google.com/spreadsheets/d/e/2PACX-1vSPR-FPTMBcYRynP4JdwYQQ8dAhSx1x8i1LPckUcuIUUlrWT82b5Thqb1bBNnPeGJPxxX1CJAlFSd6F/pub?output=xlsx'"
      ],
      "metadata": {
        "id": "BHv9K6P1yoDT"
      },
      "execution_count": 240,
      "outputs": []
    },
    {
      "cell_type": "code",
      "metadata": {
        "id": "K31bt551vrbO"
      },
      "source": [
        "# Will require runetime restart on Google colab\n",
        "!pip install tensorflow_text"
      ],
      "execution_count": 241,
      "outputs": []
    },
    {
      "cell_type": "code",
      "source": [
        "!pip install text-hr"
      ],
      "metadata": {
        "id": "_wlHeCsDiWpV"
      },
      "execution_count": null,
      "outputs": []
    },
    {
      "cell_type": "markdown",
      "metadata": {
        "id": "xm9LV9kNedUV"
      },
      "source": [
        "## Data loading\n",
        "\n",
        "- Define the preprocesor and the base model\n",
        "- LaBSE 2 base model used: https://tfhub.dev/google/LaBSE/2\n",
        "- Load the data from published google spreadsheet\n",
        "- Merge categories and Normalize data within them"
      ]
    },
    {
      "cell_type": "code",
      "metadata": {
        "id": "0px9_YjbvyO0"
      },
      "source": [
        "import tensorflow as tf\n",
        "import tensorflow_text as tft\n",
        "import tensorflow_hub as tfh\n",
        "import pandas as pd\n",
        "import numpy as np\n",
        "import seaborn as sns\n",
        "import matplotlib.pyplot as plt"
      ],
      "execution_count": 243,
      "outputs": []
    },
    {
      "cell_type": "code",
      "metadata": {
        "id": "A9p6A3e7vyb0"
      },
      "source": [
        "# Text preprocessor for bert based models\n",
        "preprocessor = tfh.KerasLayer('https://tfhub.dev/google/universal-sentence-encoder-cmlm/multilingual-preprocess/2')\n",
        "\n",
        "# Language Agnostic BERT sentence encoder\n",
        "model = tfh.KerasLayer('https://tfhub.dev/google/LaBSE/2')"
      ],
      "execution_count": 244,
      "outputs": []
    },
    {
      "cell_type": "code",
      "metadata": {
        "id": "8SDAA6v9vyXU"
      },
      "source": [
        "# Read the data\n",
        "data = pd.read_excel(UIDatasetURL)"
      ],
      "execution_count": 245,
      "outputs": []
    },
    {
      "cell_type": "code",
      "metadata": {
        "id": "-Od2WTG1vygQ",
        "colab": {
          "base_uri": "https://localhost:8080/"
        },
        "outputId": "e5940236-8fb8-4660-e8c1-602bb7601f89"
      },
      "source": [
        "data.info(verbose=True)"
      ],
      "execution_count": 246,
      "outputs": [
        {
          "output_type": "stream",
          "name": "stdout",
          "text": [
            "<class 'pandas.core.frame.DataFrame'>\n",
            "RangeIndex: 13 entries, 0 to 12\n",
            "Data columns (total 2 columns):\n",
            " #   Column    Non-Null Count  Dtype \n",
            "---  ------    --------------  ----- \n",
            " 0   Text      13 non-null     object\n",
            " 1   Question  13 non-null     object\n",
            "dtypes: object(2)\n",
            "memory usage: 336.0+ bytes\n"
          ]
        }
      ]
    },
    {
      "cell_type": "code",
      "metadata": {
        "id": "adIFwm_1vykL"
      },
      "source": [
        "columns = ['text', 'intent']\n",
        "data.columns = columns"
      ],
      "execution_count": 247,
      "outputs": []
    },
    {
      "cell_type": "markdown",
      "source": [
        "### Category merging"
      ],
      "metadata": {
        "id": "8eGbro_uXds7"
      }
    },
    {
      "cell_type": "code",
      "metadata": {
        "id": "snUmYxtDvysD"
      },
      "source": [
        "# Convert categories to codes\n",
        "data['intent'] = data['intent'].astype('category')\n",
        "data['intent_codes'] = data['intent'].cat.codes"
      ],
      "execution_count": 248,
      "outputs": []
    },
    {
      "cell_type": "code",
      "metadata": {
        "id": "uYuWGuh-vyvb",
        "colab": {
          "base_uri": "https://localhost:8080/",
          "height": 337
        },
        "outputId": "40c314da-e37e-4459-b9f6-4b2b31ece236"
      },
      "source": [
        "# Display the distribution of codes\n",
        "values = data['intent'].value_counts()\n",
        "plt.stem(values)"
      ],
      "execution_count": 249,
      "outputs": [
        {
          "output_type": "stream",
          "name": "stderr",
          "text": [
            "/usr/local/lib/python3.7/dist-packages/ipykernel_launcher.py:3: UserWarning: In Matplotlib 3.3 individual lines on a stem plot will be added as a LineCollection instead of individual lines. This significantly improves the performance of a stem plot. To remove this warning and switch to the new behaviour, set the \"use_line_collection\" keyword argument to True.\n",
            "  This is separate from the ipykernel package so we can avoid doing imports until\n"
          ]
        },
        {
          "output_type": "execute_result",
          "data": {
            "text/plain": [
              "<StemContainer object of 3 artists>"
            ]
          },
          "metadata": {},
          "execution_count": 249
        },
        {
          "output_type": "display_data",
          "data": {
            "text/plain": [
              "<Figure size 432x288 with 1 Axes>"
            ],
            "image/png": "[encoded data removed]"
          },
          "metadata": {
            "needs_background": "light"
          }
        }
      ]
    },
    {
      "cell_type": "markdown",
      "source": [
        "### Normalize data"
      ],
      "metadata": {
        "id": "BkYG7WPRW-7o"
      }
    },
    {
      "cell_type": "code",
      "metadata": {
        "id": "YEeAgAzLlpbC",
        "colab": {
          "base_uri": "https://localhost:8080/",
          "height": 52
        },
        "outputId": "b113b341-85e3-45e4-be40-a249218b5224"
      },
      "source": [
        "\"\"\"\n",
        "upis_data = data[data['intent02'] == 'upis_na_sveuciliste']\n",
        "upis_data = upis_data.sample(frac=1, random_state=1234)\n",
        "upis_data = upis_data.sample(40)\n",
        "upis_data.info()\n",
        "\"\"\""
      ],
      "execution_count": 250,
      "outputs": [
        {
          "output_type": "execute_result",
          "data": {
            "text/plain": [
              "\"\\nupis_data = data[data['intent02'] == 'upis_na_sveuciliste']\\nupis_data = upis_data.sample(frac=1, random_state=1234)\\nupis_data = upis_data.sample(40)\\nupis_data.info()\\n\""
            ],
            "application/vnd.google.colaboratory.intrinsic+json": {
              "type": "string"
            }
          },
          "metadata": {},
          "execution_count": 250
        }
      ]
    },
    {
      "cell_type": "code",
      "metadata": {
        "id": "QLV4-XZflqeq",
        "colab": {
          "base_uri": "https://localhost:8080/",
          "height": 52
        },
        "outputId": "8ce6c7f4-4cca-4063-c651-4ddea2357b52"
      },
      "source": [
        "\"\"\"\n",
        "ood_data = data[data['intent02'] == 'OOD']\n",
        "ood_data = ood_data.sample(frac=1, random_state=1234)\n",
        "ood_data = ood_data.sample(40)\n",
        "ood_data.info()\n",
        "\"\"\""
      ],
      "execution_count": 251,
      "outputs": [
        {
          "output_type": "execute_result",
          "data": {
            "text/plain": [
              "\"\\nood_data = data[data['intent02'] == 'OOD']\\nood_data = ood_data.sample(frac=1, random_state=1234)\\nood_data = ood_data.sample(40)\\nood_data.info()\\n\""
            ],
            "application/vnd.google.colaboratory.intrinsic+json": {
              "type": "string"
            }
          },
          "metadata": {},
          "execution_count": 251
        }
      ]
    },
    {
      "cell_type": "code",
      "metadata": {
        "id": "yeO5grrblqj3",
        "colab": {
          "base_uri": "https://localhost:8080/",
          "height": 35
        },
        "outputId": "79ef8691-be82-48da-f4f9-7b126dc57daa"
      },
      "source": [
        "\"\"\"\n",
        "data2 = data[(data['intent02'] != 'OOD') & (data['intent02'] != 'upis_na_sveuciliste')]\n",
        "data2.info()\n",
        "\"\"\""
      ],
      "execution_count": 252,
      "outputs": [
        {
          "output_type": "execute_result",
          "data": {
            "text/plain": [
              "\"\\ndata2 = data[(data['intent02'] != 'OOD') & (data['intent02'] != 'upis_na_sveuciliste')]\\ndata2.info()\\n\""
            ],
            "application/vnd.google.colaboratory.intrinsic+json": {
              "type": "string"
            }
          },
          "metadata": {},
          "execution_count": 252
        }
      ]
    },
    {
      "cell_type": "code",
      "metadata": {
        "id": "b3ggX0Xclqnr",
        "colab": {
          "base_uri": "https://localhost:8080/",
          "height": 35
        },
        "outputId": "4d598e24-4ad5-4d20-ed74-880566126934"
      },
      "source": [
        "\"\"\"\n",
        "data2 = data2.append(upis_data, ignore_index=True)\n",
        "data2 = data2.append(ood_data, ignore_index=True)\n",
        "\"\"\""
      ],
      "execution_count": 253,
      "outputs": [
        {
          "output_type": "execute_result",
          "data": {
            "text/plain": [
              "'\\ndata2 = data2.append(upis_data, ignore_index=True)\\ndata2 = data2.append(ood_data, ignore_index=True)\\n'"
            ],
            "application/vnd.google.colaboratory.intrinsic+json": {
              "type": "string"
            }
          },
          "metadata": {},
          "execution_count": 253
        }
      ]
    },
    {
      "cell_type": "code",
      "metadata": {
        "id": "-VAxT_U1Aavj",
        "colab": {
          "base_uri": "https://localhost:8080/",
          "height": 35
        },
        "outputId": "2cd99442-1162-44ba-f7a8-d85da1e1b36c"
      },
      "source": [
        "\"\"\"\n",
        "values = data2['intent02'].value_counts()\n",
        "plt.stem(values)\n",
        "\"\"\""
      ],
      "execution_count": 254,
      "outputs": [
        {
          "output_type": "execute_result",
          "data": {
            "text/plain": [
              "\"\\nvalues = data2['intent02'].value_counts()\\nplt.stem(values)\\n\""
            ],
            "application/vnd.google.colaboratory.intrinsic+json": {
              "type": "string"
            }
          },
          "metadata": {},
          "execution_count": 254
        }
      ]
    },
    {
      "cell_type": "code",
      "metadata": {
        "id": "Ci-zXPoelqrz"
      },
      "source": [
        "# data = data2"
      ],
      "execution_count": 255,
      "outputs": []
    },
    {
      "cell_type": "markdown",
      "metadata": {
        "id": "uE284w9XWdGN"
      },
      "source": [
        "## Text preprocessing\n",
        "\n",
        "1. Remove punctuation\n",
        "2. Lowercase the text\n",
        "3. Apply tokenization\n",
        "4. Remove stopwords\n",
        "5. Apply lemmatizer"
      ]
    },
    {
      "cell_type": "code",
      "metadata": {
        "id": "JhnQy4t77ETl",
        "colab": {
          "base_uri": "https://localhost:8080/"
        },
        "outputId": "d949dcbc-23a9-4f82-b42c-7baaa155222b"
      },
      "source": [
        "import string\n",
        "import re\n",
        "import nltk\n",
        "import text_hr\n",
        "\n",
        "nltk.download('stopwords')\n",
        "nltk.download('wordnet')\n",
        "nltk.download('omw-1.4')\n",
        "from nltk.stem.porter import PorterStemmer\n",
        "from nltk.stem import WordNetLemmatizer"
      ],
      "execution_count": 256,
      "outputs": [
        {
          "output_type": "stream",
          "name": "stderr",
          "text": [
            "[nltk_data] Downloading package stopwords to /root/nltk_data...\n",
            "[nltk_data]   Package stopwords is already up-to-date!\n",
            "[nltk_data] Downloading package wordnet to /root/nltk_data...\n",
            "[nltk_data]   Package wordnet is already up-to-date!\n",
            "[nltk_data] Downloading package omw-1.4 to /root/nltk_data...\n",
            "[nltk_data]   Package omw-1.4 is already up-to-date!\n"
          ]
        }
      ]
    },
    {
      "cell_type": "code",
      "metadata": {
        "id": "X2nix_nE7EXl"
      },
      "source": [
        "def remove_punctuation(text):\n",
        "    return \"\".join([i for i in text if i not in string.punctuation])\n",
        "\n",
        "def tokenization(text):\n",
        "    return re.split(r\"\\s+\",text)\n",
        "\n",
        "stopwords = nltk.corpus.stopwords.words('english')\n",
        "def remove_stopwords(text):\n",
        "    return [i for i in text if i not in stopwords]\n",
        "\n",
        "porter_stemmer = PorterStemmer()\n",
        "def stemming(text):\n",
        "    return [porter_stemmer.stem(word) for word in text]\n",
        "\n",
        "wordnet_lemmatizer = WordNetLemmatizer()\n",
        "def lemmatizer(text):\n",
        "    return [wordnet_lemmatizer.lemmatize(word) for word in text]"
      ],
      "execution_count": 257,
      "outputs": []
    },
    {
      "cell_type": "code",
      "metadata": {
        "id": "wmVEW3iST4s-"
      },
      "source": [
        "data['text'] = data['text']\\\n",
        "    .apply(lambda x: remove_punctuation(x))\\\n",
        "    .apply(lambda x: x.lower())\\\n",
        "    .apply(lambda x: tokenization(x))\\\n",
        "    .apply(lambda x: remove_stopwords(x))\\\n",
        "    .apply(lambda x: lemmatizer(x))"
      ],
      "execution_count": 258,
      "outputs": []
    },
    {
      "cell_type": "code",
      "source": [
        "data['text'].head()"
      ],
      "metadata": {
        "id": "2RmQcRf4f6x5",
        "colab": {
          "base_uri": "https://localhost:8080/"
        },
        "outputId": "024cde92-74cf-4db5-a37e-1678b77a0c63"
      },
      "execution_count": 259,
      "outputs": [
        {
          "output_type": "execute_result",
          "data": {
            "text/plain": [
              "0    [što, sve, moram, napraviti, za, praksu]\n",
              "1     [koji, su, koraci, za, obaviti, praksu]\n",
              "2     [kojim, redosljem, idu, koraci, prakse]\n",
              "3               [kako, ide, postupak, prakse]\n",
              "4                     [koliko, traje, praksa]\n",
              "Name: text, dtype: object"
            ]
          },
          "metadata": {},
          "execution_count": 259
        }
      ]
    },
    {
      "cell_type": "code",
      "metadata": {
        "id": "0EaJ0FwSVXdj"
      },
      "source": [
        "stop_words_list_hr = []\n",
        "for word_base, l_key, cnt, _suff_id, wform_key, wform in text_hr.get_all_std_words():\n",
        "    if word_base is not None: stop_words_list_hr.append(word_base)\n",
        "    if wform is not None: stop_words_list_hr.append(wform)"
      ],
      "execution_count": 260,
      "outputs": []
    },
    {
      "cell_type": "code",
      "metadata": {
        "id": "ocHP8DanXTZb",
        "colab": {
          "base_uri": "https://localhost:8080/"
        },
        "outputId": "6ba081f3-e6d1-4cfa-c138-f2fc2853446a"
      },
      "source": [
        "stop_words_list_hr = list(dict.fromkeys(stop_words_list_hr))\n",
        "len(stop_words_list_hr)"
      ],
      "execution_count": 261,
      "outputs": [
        {
          "output_type": "execute_result",
          "data": {
            "text/plain": [
              "1207"
            ]
          },
          "metadata": {},
          "execution_count": 261
        }
      ]
    },
    {
      "cell_type": "code",
      "metadata": {
        "id": "_ayyppnMU50C"
      },
      "source": [
        "def remove_stopwords_hr(text):\n",
        "    output = [i for i in text if i not in stop_words_list_hr]\n",
        "    return output"
      ],
      "execution_count": 262,
      "outputs": []
    },
    {
      "cell_type": "code",
      "metadata": {
        "id": "mReIAe_zXnRL"
      },
      "source": [
        "data['text'] = data['text'].apply(lambda x: remove_stopwords_hr(x))"
      ],
      "execution_count": 263,
      "outputs": []
    },
    {
      "cell_type": "code",
      "metadata": {
        "id": "hySD0o55Y9Pa",
        "colab": {
          "base_uri": "https://localhost:8080/"
        },
        "outputId": "917dabec-4279-42e9-9eb5-95afced66ad6"
      },
      "source": [
        "data['text'].head()"
      ],
      "execution_count": 264,
      "outputs": [
        {
          "output_type": "execute_result",
          "data": {
            "text/plain": [
              "0                 [napraviti, praksu]\n",
              "1           [koraci, obaviti, praksu]\n",
              "2    [redosljem, idu, koraci, prakse]\n",
              "3             [ide, postupak, prakse]\n",
              "4                     [traje, praksa]\n",
              "Name: text, dtype: object"
            ]
          },
          "metadata": {},
          "execution_count": 264
        }
      ]
    },
    {
      "cell_type": "code",
      "metadata": {
        "id": "ktpZY3yJiW1L",
        "colab": {
          "base_uri": "https://localhost:8080/"
        },
        "outputId": "d1ca18c5-c0e1-438a-ea9a-4f6f326ac8eb"
      },
      "source": [
        "data['text'] = data['text'].str.join(\" \")\n",
        "data['text'].head()"
      ],
      "execution_count": 265,
      "outputs": [
        {
          "output_type": "execute_result",
          "data": {
            "text/plain": [
              "0               napraviti praksu\n",
              "1          koraci obaviti praksu\n",
              "2    redosljem idu koraci prakse\n",
              "3            ide postupak prakse\n",
              "4                   traje praksa\n",
              "Name: text, dtype: object"
            ]
          },
          "metadata": {},
          "execution_count": 265
        }
      ]
    },
    {
      "cell_type": "code",
      "metadata": {
        "id": "wjyTlZAFjhHB",
        "colab": {
          "base_uri": "https://localhost:8080/",
          "height": 206
        },
        "outputId": "c4811d0c-5edd-43c5-9218-09830e54e0aa"
      },
      "source": [
        "data.head()"
      ],
      "execution_count": 266,
      "outputs": [
        {
          "output_type": "execute_result",
          "data": {
            "text/plain": [
              "                          text intent  intent_codes\n",
              "0             napraviti praksu     P1             0\n",
              "1        koraci obaviti praksu     P1             0\n",
              "2  redosljem idu koraci prakse     P2             1\n",
              "3          ide postupak prakse     P2             1\n",
              "4                 traje praksa     P3             2"
            ],
            "text/html": [
              "\n",
              "  <div id=\"df-3fdf4fa6-a465-4c9b-a749-f8f1fb3504d0\">\n",
              "    <div class=\"colab-df-container\">\n",
              "      <div>\n",
              "<style scoped>\n",
              "    .dataframe tbody tr th:only-of-type {\n",
              "        vertical-align: middle;\n",
              "    }\n",
              "\n",
              "    .dataframe tbody tr th {\n",
              "        vertical-align: top;\n",
              "    }\n",
              "\n",
              "    .dataframe thead th {\n",
              "        text-align: right;\n",
              "    }\n",
              "</style>\n",
              "<table border=\"1\" class=\"dataframe\">\n",
              "  <thead>\n",
              "    <tr style=\"text-align: right;\">\n",
              "      <th></th>\n",
              "      <th>text</th>\n",
              "      <th>intent</th>\n",
              "      <th>intent_codes</th>\n",
              "    </tr>\n",
              "  </thead>\n",
              "  <tbody>\n",
              "    <tr>\n",
              "      <th>0</th>\n",
              "      <td>napraviti praksu</td>\n",
              "      <td>P1</td>\n",
              "      <td>0</td>\n",
              "    </tr>\n",
              "    <tr>\n",
              "      <th>1</th>\n",
              "      <td>koraci obaviti praksu</td>\n",
              "      <td>P1</td>\n",
              "      <td>0</td>\n",
              "    </tr>\n",
              "    <tr>\n",
              "      <th>2</th>\n",
              "      <td>redosljem idu koraci prakse</td>\n",
              "      <td>P2</td>\n",
              "      <td>1</td>\n",
              "    </tr>\n",
              "    <tr>\n",
              "      <th>3</th>\n",
              "      <td>ide postupak prakse</td>\n",
              "      <td>P2</td>\n",
              "      <td>1</td>\n",
              "    </tr>\n",
              "    <tr>\n",
              "      <th>4</th>\n",
              "      <td>traje praksa</td>\n",
              "      <td>P3</td>\n",
              "      <td>2</td>\n",
              "    </tr>\n",
              "  </tbody>\n",
              "</table>\n",
              "</div>\n",
              "      <button class=\"colab-df-convert\" onclick=\"convertToInteractive('df-3fdf4fa6-a465-4c9b-a749-f8f1fb3504d0')\"\n",
              "              title=\"Convert this dataframe to an interactive table.\"\n",
              "              style=\"display:none;\">\n",
              "        \n",
              "  <svg xmlns=\"http://www.w3.org/2000/svg\" height=\"24px\"viewBox=\"0 0 24 24\"\n",
              "       width=\"24px\">\n",
              "    <path d=\"M0 0h24v24H0V0z\" fill=\"none\"/>\n",
              "    <path d=\"M18.56 5.44l.94 2.06.94-2.06 2.06-.94-2.06-.94-.94-2.06-.94 2.06-2.06.94zm-11 1L8.5 8.5l.94-2.06 2.06-.94-2.06-.94L8.5 2.5l-.94 2.06-2.06.94zm10 10l.94 2.06.94-2.06 2.06-.94-2.06-.94-.94-2.06-.94 2.06-2.06.94z\"/><path d=\"M17.41 7.96l-1.37-1.37c-.4-.4-.92-.59-1.43-.59-.52 0-1.04.2-1.43.59L10.3 9.45l-7.72 7.72c-.78.78-.78 2.05 0 2.83L4 21.41c.39.39.9.59 1.41.59.51 0 1.02-.2 1.41-.59l7.78-7.78 2.81-2.81c.8-.78.8-2.07 0-2.86zM5.41 20L4 18.59l7.72-7.72 1.47 1.35L5.41 20z\"/>\n",
              "  </svg>\n",
              "      </button>\n",
              "      \n",
              "  <style>\n",
              "    .colab-df-container {\n",
              "      display:flex;\n",
              "      flex-wrap:wrap;\n",
              "      gap: 12px;\n",
              "    }\n",
              "\n",
              "    .colab-df-convert {\n",
              "      background-color: #E8F0FE;\n",
              "      border: none;\n",
              "      border-radius: 50%;\n",
              "      cursor: pointer;\n",
              "      display: none;\n",
              "      fill: #1967D2;\n",
              "      height: 32px;\n",
              "      padding: 0 0 0 0;\n",
              "      width: 32px;\n",
              "    }\n",
              "\n",
              "    .colab-df-convert:hover {\n",
              "      background-color: #E2EBFA;\n",
              "      box-shadow: 0px 1px 2px rgba(60, 64, 67, 0.3), 0px 1px 3px 1px rgba(60, 64, 67, 0.15);\n",
              "      fill: #174EA6;\n",
              "    }\n",
              "\n",
              "    [theme=dark] .colab-df-convert {\n",
              "      background-color: #3B4455;\n",
              "      fill: #D2E3FC;\n",
              "    }\n",
              "\n",
              "    [theme=dark] .colab-df-convert:hover {\n",
              "      background-color: #434B5C;\n",
              "      box-shadow: 0px 1px 3px 1px rgba(0, 0, 0, 0.15);\n",
              "      filter: drop-shadow(0px 1px 2px rgba(0, 0, 0, 0.3));\n",
              "      fill: #FFFFFF;\n",
              "    }\n",
              "  </style>\n",
              "\n",
              "      <script>\n",
              "        const buttonEl =\n",
              "          document.querySelector('#df-3fdf4fa6-a465-4c9b-a749-f8f1fb3504d0 button.colab-df-convert');\n",
              "        buttonEl.style.display =\n",
              "          google.colab.kernel.accessAllowed ? 'block' : 'none';\n",
              "\n",
              "        async function convertToInteractive(key) {\n",
              "          const element = document.querySelector('#df-3fdf4fa6-a465-4c9b-a749-f8f1fb3504d0');\n",
              "          const dataTable =\n",
              "            await google.colab.kernel.invokeFunction('convertToInteractive',\n",
              "                                                     [key], {});\n",
              "          if (!dataTable) return;\n",
              "\n",
              "          const docLinkHtml = 'Like what you see? Visit the ' +\n",
              "            '<a target=\"_blank\" href=https://colab.research.google.com/notebooks/data_table.ipynb>data table notebook</a>'\n",
              "            + ' to learn more about interactive tables.';\n",
              "          element.innerHTML = '';\n",
              "          dataTable['output_type'] = 'display_data';\n",
              "          await google.colab.output.renderOutput(dataTable, element);\n",
              "          const docLink = document.createElement('div');\n",
              "          docLink.innerHTML = docLinkHtml;\n",
              "          element.appendChild(docLink);\n",
              "        }\n",
              "      </script>\n",
              "    </div>\n",
              "  </div>\n",
              "  "
            ]
          },
          "metadata": {},
          "execution_count": 266
        }
      ]
    },
    {
      "cell_type": "markdown",
      "metadata": {
        "id": "5LgjKFU5fv4U"
      },
      "source": [
        "## Split validation and training data\n",
        "\n",
        "Train 75%, validation 25%"
      ]
    },
    {
      "cell_type": "code",
      "source": [
        "codes = data['intent_codes'].unique()"
      ],
      "metadata": {
        "id": "-IcJciEl3cLG"
      },
      "execution_count": 267,
      "outputs": []
    },
    {
      "cell_type": "code",
      "source": [
        "# Variable to understand the meaning behind codes\n",
        "CODES_REPR = data[[\"intent_codes\", \"intent\"]].drop_duplicates().sort_values(\"intent_codes\")\n",
        "\n",
        "\n",
        "def codeToIntent(prediction) -> str:\n",
        "    \"\"\" Returns the intent of the prediction, not the code \"\"\"\n",
        "    return CODES_REPR[CODES_REPR[\"intent_codes\"] == prediction.argmax()].iloc[0][\"intent\"]"
      ],
      "metadata": {
        "id": "hAe8l1BJ6avj"
      },
      "execution_count": null,
      "outputs": []
    },
    {
      "cell_type": "code",
      "metadata": {
        "id": "PoEvgaANe7yL"
      },
      "source": [
        "preprocessed_validation_data = pd.DataFrame(columns=data.columns)\n",
        "preprocessed_train_data = pd.DataFrame(columns=data.columns)\n",
        "\n",
        "for c in codes:\n",
        "    sample = data[data['intent_codes'] == c]\n",
        "    sample = sample.sample(frac=1)\n",
        "    # val = sample.sample(frac=0.25)\n",
        "    val = sample.sample(frac=0)\n",
        "    train = pd.concat([sample, val]).drop_duplicates(keep=False)\n",
        "    preprocessed_validation_data = preprocessed_validation_data.append(val, ignore_index=True)\n",
        "    preprocessed_train_data = preprocessed_train_data.append(train, ignore_index=True)"
      ],
      "execution_count": 268,
      "outputs": []
    },
    {
      "cell_type": "code",
      "metadata": {
        "id": "g1mDKCnXe714"
      },
      "source": [
        "# Preprocessed google translation data\n",
        "train_data_eng = preprocessed_train_data[['text', 'intent_codes']]\n",
        "train_data_eng.columns = ['text', 'intent_codes']\n",
        "\n",
        "validation_data_eng = preprocessed_validation_data[['text', 'intent_codes']]\n",
        "validation_data_eng.columns = ['text', 'intent_codes']"
      ],
      "execution_count": 269,
      "outputs": []
    },
    {
      "cell_type": "code",
      "source": [
        "def df_to_dataset(df, shuffle=True, batch_size=16):\n",
        "    df = df.copy()\n",
        "    labels = df.pop('intent_codes')\n",
        "    lables_cat = tf.keras.utils.to_categorical(labels, 5)\n",
        "    dataset = tf.data.Dataset.from_tensor_slices((dict(df), lables_cat))\n",
        "    if shuffle:\n",
        "        dataset = dataset.shuffle(buffer_size=len(df))\n",
        "    dataset = dataset.batch(batch_size).prefetch(batch_size)\n",
        "    return dataset"
      ],
      "metadata": {
        "id": "44z_8fgy1zch"
      },
      "execution_count": 270,
      "outputs": []
    },
    {
      "cell_type": "code",
      "metadata": {
        "id": "_ZM8jhIrj_eh"
      },
      "source": [
        "_validation = train_data_eng\n",
        "train_data_eng = df_to_dataset(train_data_eng)\n",
        "\n",
        "# validation_data_eng = df_to_dataset(validation_data_eng)\n",
        "validation_data_eng = df_to_dataset(_validation)"
      ],
      "execution_count": 271,
      "outputs": []
    },
    {
      "cell_type": "markdown",
      "metadata": {
        "id": "c4iV9MClkQYm"
      },
      "source": [
        "## Model definition and training\n",
        "\n",
        "2 epochs training (testing purposes)"
      ]
    },
    {
      "cell_type": "code",
      "metadata": {
        "id": "lLuKBFDQaE3T",
        "colab": {
          "base_uri": "https://localhost:8080/"
        },
        "outputId": "e30006d6-b503-4104-a679-d97167d6898b"
      },
      "source": [
        "# Model builder\n",
        "def model_build():\n",
        "    inputs = tf.keras.layers.Input(shape=(), dtype=tf.string, name='text')\n",
        "    encoded_input = preprocessor(inputs)\n",
        "    encoder_outputs = model(encoded_input)\n",
        "\n",
        "    x = encoder_outputs['pooled_output']\n",
        "    x = tf.keras.layers.Dropout(0.1)(x)\n",
        "    x = tf.keras.layers.Dense(128, activation='relu')(x)\n",
        "    x = tf.keras.layers.Dropout(0.7)(x)\n",
        "    outputs = tf.keras.layers.Dense(5, activation='softmax', name='classifier')(x)\n",
        "    \n",
        "    return tf.keras.Model(inputs, outputs)\n",
        "\n",
        "# Build a model with preprocessed data \n",
        "model_eng = model_build()\n",
        "model_eng.compile(\n",
        "    optimizer = tf.keras.optimizers.Adam(0.001),\n",
        "    loss = tf.keras.losses.CategoricalCrossentropy(from_logits=True),\n",
        "    metrics = tf.keras.metrics.CategoricalAccuracy()\n",
        ")\n",
        "\n",
        "eng_history = model_eng.fit(\n",
        "    train_data_eng,\n",
        "    epochs = training_epochs,\n",
        "    batch_size = 16,\n",
        "    validation_data = validation_data_eng\n",
        ")"
      ],
      "execution_count": 272,
      "outputs": [
        {
          "output_type": "stream",
          "name": "stdout",
          "text": [
            "Epoch 1/10\n"
          ]
        },
        {
          "output_type": "stream",
          "name": "stderr",
          "text": [
            "/usr/local/lib/python3.7/dist-packages/tensorflow/python/util/dispatch.py:1082: UserWarning: \"`categorical_crossentropy` received `from_logits=True`, but the `output` argument was produced by a sigmoid or softmax activation and thus does not represent logits. Was this intended?\"\n",
            "  return dispatch_target(*args, **kwargs)\n"
          ]
        },
        {
          "output_type": "stream",
          "name": "stdout",
          "text": [
            "1/1 [==============================] - 6s 6s/step - loss: 1.8039 - categorical_accuracy: 0.3846 - val_loss: 1.4947 - val_categorical_accuracy: 0.3846\n",
            "Epoch 2/10\n",
            "1/1 [==============================] - 0s 303ms/step - loss: 2.6418 - categorical_accuracy: 0.0000e+00 - val_loss: 1.2148 - val_categorical_accuracy: 0.6154\n",
            "Epoch 3/10\n",
            "1/1 [==============================] - 0s 304ms/step - loss: 1.5170 - categorical_accuracy: 0.3846 - val_loss: 1.0453 - val_categorical_accuracy: 0.6923\n",
            "Epoch 4/10\n",
            "1/1 [==============================] - 0s 291ms/step - loss: 1.7406 - categorical_accuracy: 0.3846 - val_loss: 0.9254 - val_categorical_accuracy: 0.7692\n",
            "Epoch 5/10\n",
            "1/1 [==============================] - 0s 300ms/step - loss: 1.3683 - categorical_accuracy: 0.5385 - val_loss: 0.8324 - val_categorical_accuracy: 0.8462\n",
            "Epoch 6/10\n",
            "1/1 [==============================] - 0s 331ms/step - loss: 0.7997 - categorical_accuracy: 0.9231 - val_loss: 0.7462 - val_categorical_accuracy: 0.9231\n",
            "Epoch 7/10\n",
            "1/1 [==============================] - 0s 349ms/step - loss: 0.8660 - categorical_accuracy: 0.7692 - val_loss: 0.6696 - val_categorical_accuracy: 0.9231\n",
            "Epoch 8/10\n",
            "1/1 [==============================] - 0s 277ms/step - loss: 1.2518 - categorical_accuracy: 0.4615 - val_loss: 0.6117 - val_categorical_accuracy: 1.0000\n",
            "Epoch 9/10\n",
            "1/1 [==============================] - 0s 323ms/step - loss: 0.7054 - categorical_accuracy: 0.6923 - val_loss: 0.5586 - val_categorical_accuracy: 1.0000\n",
            "Epoch 10/10\n",
            "1/1 [==============================] - 0s 282ms/step - loss: 0.6676 - categorical_accuracy: 0.7692 - val_loss: 0.5038 - val_categorical_accuracy: 1.0000\n"
          ]
        }
      ]
    },
    {
      "cell_type": "markdown",
      "source": [
        "# Token classification model (testing; not sure if not needed :D)"
      ],
      "metadata": {
        "id": "a49M821AEfPq"
      }
    },
    {
      "cell_type": "code",
      "source": [
        "!pip install transformers"
      ],
      "metadata": {
        "id": "QfRsnOBFErRx"
      },
      "execution_count": null,
      "outputs": []
    },
    {
      "cell_type": "code",
      "source": [
        "!pip install sentencepiece"
      ],
      "metadata": {
        "id": "BBSDOhXPFmLN"
      },
      "execution_count": null,
      "outputs": []
    },
    {
      "cell_type": "code",
      "source": [
        "from transformers import AutoTokenizer, AutoModelForTokenClassification\n",
        "\n",
        "nerTokenizer = AutoTokenizer.from_pretrained(\"Jean-Baptiste/camembert-ner\")\n",
        "nerModel = AutoModelForTokenClassification.from_pretrained(\"Jean-Baptiste/camembert-ner\")"
      ],
      "metadata": {
        "colab": {
          "base_uri": "https://localhost:8080/",
          "height": 49,
          "referenced_widgets": [
            "f7d8010d8c2548d68bcd6a452b55626e",
            "d3210134da66467ab960a786ddb90dd5",
            "64c7448cbdc44f849435ab15551ed790",
            "f8aef7f140bd4477b4a872c1bf574a40",
            "f8cdc8f2de7b4f238a50be3906e12c4c",
            "4e11f2c584854a9495b2d1b1f3f9272b",
            "c866c89dbe864cf3aad5afa1fd009072",
            "70440d67a9414b5ab1c63e62ef08d43b",
            "12ba8d740c4f416fb7347c0783d37d8c",
            "86d3151dec9f4348bd43439bfd35d613",
            "0a5c3af07b4f4b2197357faf7f4f3858"
          ]
        },
        "id": "i4IeGV3dEi23",
        "outputId": "e3996e41-f27b-4c36-f419-cfb57656caf9"
      },
      "execution_count": null,
      "outputs": [
        {
          "output_type": "display_data",
          "data": {
            "text/plain": [
              "Downloading pytorch_model.bin:   0%|          | 0.00/420M [00:00<?, ?B/s]"
            ],
            "application/vnd.jupyter.widget-view+json": {
              "version_major": 2,
              "version_minor": 0,
              "model_id": "f7d8010d8c2548d68bcd6a452b55626e"
            }
          },
          "metadata": {}
        }
      ]
    },
    {
      "cell_type": "code",
      "source": [
        "nerModel.classifier.out_features = 3"
      ],
      "metadata": {
        "id": "wi22F6GoGjBv"
      },
      "execution_count": null,
      "outputs": []
    },
    {
      "cell_type": "code",
      "source": [
        "from transformers import pipeline\n",
        "\n",
        "nlp = pipeline('ner', model=nerModel, tokenizer=nerTokenizer, aggregation_strategy=\"simple\")"
      ],
      "metadata": {
        "id": "fAu8PtSFHMZT"
      },
      "execution_count": null,
      "outputs": []
    },
    {
      "cell_type": "code",
      "source": [
        "nlp(\"Apple est créée le 1er avril 1976 dans le garage de la maison d'enfance de Steve Jobs à Los Altos en Californie par Steve Jobs, Steve Wozniak et Ronald Wayne14, puis constituée sous forme de société le 3 janvier 1977 à l'origine sous le nom d'Apple Computer, mais pour ses 30 ans et pour refléter la diversification de ses produits, le mot « computer » est retiré le 9 janvier 2015.\")"
      ],
      "metadata": {
        "id": "JAk2QwpXHgKo"
      },
      "execution_count": null,
      "outputs": []
    },
    {
      "cell_type": "markdown",
      "source": [
        "# Topic Modeling (testing; not needed)"
      ],
      "metadata": {
        "id": "vitUqZeCS4AC"
      }
    },
    {
      "cell_type": "code",
      "source": [
        "!pip install pyLDAvis"
      ],
      "metadata": {
        "id": "yWDmmmcbTP4j"
      },
      "execution_count": null,
      "outputs": []
    },
    {
      "cell_type": "code",
      "source": [
        "# Dependencies\n",
        "import pandas as pd\n",
        "import gensim # the library for Topic modelling\n",
        "from gensim.models.ldamulticore import LdaMulticore\n",
        "from gensim import corpora, models\n",
        "\n",
        "from nltk.corpus import stopwords\n",
        "import string\n",
        "from nltk.stem.wordnet import WordNetLemmatizer\n",
        "\n",
        "import warnings\n",
        "warnings.simplefilter('ignore')\n",
        "from itertools import chain"
      ],
      "metadata": {
        "id": "dCuEH6YLS8C8"
      },
      "execution_count": null,
      "outputs": []
    },
    {
      "cell_type": "code",
      "source": [
        "# Sample data\n",
        "df = pd.DataFrame({\n",
        "    \"topic\": [\"topic 1\"] * 100 + [\"topic 2\"] * 100 + [\"other\"] * 100,\n",
        "    \"text\": [\"1\"] * 100 + [\"2\"] * 100 + [\"3\"] * 30 + [\"4\"] * 30 + [\"5\"] * 40\n",
        "})"
      ],
      "metadata": {
        "id": "rmrkHP0DTJUx"
      },
      "execution_count": null,
      "outputs": []
    },
    {
      "cell_type": "code",
      "source": [
        "# Clean the data\n",
        "stop = set(stopwords.words('english'))\n",
        "exclude = set(string.punctuation)\n",
        "lemma = WordNetLemmatizer()\n",
        "\n",
        "def clean(text):\n",
        "    stop_free = ' '.join([word for word in text.lower().split() if word not in stop])\n",
        "    punc_free = ''.join(ch for ch in stop_free if ch not in exclude)\n",
        "    normalized = ' '.join([lemma.lemmatize(word) for word in punc_free.split()])\n",
        "    return normalized.split()\n",
        "\n",
        "df['text_clean'] = df['text'].apply(clean)"
      ],
      "metadata": {
        "id": "TEyUyyHZUA0v"
      },
      "execution_count": null,
      "outputs": []
    },
    {
      "cell_type": "code",
      "source": [
        "# Create dictionary\n",
        "dictionary = corpora.Dictionary(df['text_clean'])\n",
        "\n",
        "# Create document term matrix\n",
        "doc_term_matrix = [dictionary.doc2bow(doc) for doc in df['text_clean'] ]"
      ],
      "metadata": {
        "colab": {
          "base_uri": "https://localhost:8080/"
        },
        "id": "2TAT68sUVwwq",
        "outputId": "4d42eb89-3486-41fa-9853-491276d0036b"
      },
      "execution_count": null,
      "outputs": [
        {
          "output_type": "stream",
          "name": "stdout",
          "text": [
            "300\n"
          ]
        }
      ]
    },
    {
      "cell_type": "code",
      "source": [
        "lda = gensim.models.ldamodel.LdaModel"
      ],
      "metadata": {
        "id": "plh9cZ7lV4E8"
      },
      "execution_count": null,
      "outputs": []
    },
    {
      "cell_type": "code",
      "source": [
        "num_topics = 3\n",
        "ldamodel = lda(doc_term_matrix, num_topics=num_topics, id2word=dictionary, passes=50, minimum_probability=0)"
      ],
      "metadata": {
        "id": "T3qS4UbdV8D2"
      },
      "execution_count": null,
      "outputs": []
    },
    {
      "cell_type": "code",
      "source": [
        "# Assigns the topics to the documents in corpus\n",
        "lda_corpus = ldamodel[doc_term_matrix]"
      ],
      "metadata": {
        "id": "6-j5_dtTWlm4"
      },
      "execution_count": null,
      "outputs": []
    },
    {
      "cell_type": "code",
      "source": [
        "scores = list(chain(*[[score for topic_id,score in topic] for topic in [doc for doc in lda_corpus]]))\n",
        "threshold = sum(scores)/len(scores)"
      ],
      "metadata": {
        "id": "_DsUeReaWv9c"
      },
      "execution_count": null,
      "outputs": []
    },
    {
      "cell_type": "code",
      "source": [
        "cluster1 = [j for i,j in zip(lda_corpus,df.index) if i[0][1] > threshold]\n",
        "cluster2 = [j for i,j in zip(lda_corpus,df.index) if i[1][1] > threshold]\n",
        "cluster3 = [j for i,j in zip(lda_corpus,df.index) if i[2][1] > threshold]"
      ],
      "metadata": {
        "colab": {
          "base_uri": "https://localhost:8080/"
        },
        "id": "OWRkRGgTW4Un",
        "outputId": "e8839d32-08fa-43d0-e1c1-1453bdd710b0"
      },
      "execution_count": null,
      "outputs": [
        {
          "output_type": "stream",
          "name": "stdout",
          "text": [
            "60\n",
            "100\n",
            "140\n"
          ]
        }
      ]
    },
    {
      "cell_type": "markdown",
      "source": [
        "# Spam ham classification (failed)\n",
        "Source: https://pdf.co/blog/ham-and-spam-message-classification-using-machine-learning-in-python"
      ],
      "metadata": {
        "id": "pWmOxUgmbQZY"
      }
    },
    {
      "cell_type": "code",
      "source": [
        "from numpy import array\n",
        "from keras.preprocessing.text import one_hot\n",
        "from keras_preprocessing.sequence import pad_sequences\n",
        "from keras.models import Sequential\n",
        "from keras.layers.core import Activation, Dropout, Dense\n",
        "from keras.layers import Flatten\n",
        "from keras.layers import GlobalMaxPooling1D\n",
        "from tensorflow.keras.layers import Embedding\n",
        "from sklearn.model_selection import train_test_split\n",
        "from keras.preprocessing.text import Tokenizer\n",
        "\n",
        "import numpy as np\n",
        "import pandas as pd\n",
        "import nltk\n",
        "import re\n",
        "import seaborn as sns"
      ],
      "metadata": {
        "id": "1sSEPe-TbVDE"
      },
      "execution_count": null,
      "outputs": []
    },
    {
      "cell_type": "code",
      "source": [
        "dataset_url = \"https://raw.githubusercontent.com/bigmlcom/python/master/data/spam.csv\"\n",
        "dataset = pd.read_csv(dataset_url, sep='\\t')\n",
        "dataset.head()"
      ],
      "metadata": {
        "id": "IGPug0uDbz0z"
      },
      "execution_count": null,
      "outputs": []
    },
    {
      "cell_type": "code",
      "source": [
        "def text_preprocess(sen): \n",
        "   sen = re.sub('[^a-zA-Z]', ' ', sen)\n",
        "   sen = re.sub(r\"\\s+[a-zA-Z]\\s+\", ' ', sen)\n",
        "   sen = re.sub(r'\\s+', ' ', sen)\n",
        "   return sen"
      ],
      "metadata": {
        "id": "0tusS_Rnb9OR"
      },
      "execution_count": null,
      "outputs": []
    },
    {
      "cell_type": "code",
      "source": [
        "X = []\n",
        "reviews = list(dataset[\"Message\"]  ) \n",
        "for r in reviews: \n",
        "  X.append(text_preprocess(r))"
      ],
      "metadata": {
        "id": "T_2PnWhIbqNo"
      },
      "execution_count": null,
      "outputs": []
    },
    {
      "cell_type": "code",
      "source": [
        "y = dataset[\"Type\"]\n",
        "y = np.array(list(map(lambda x: 1 if x==\"ham\" else 0, y)))"
      ],
      "metadata": {
        "id": "H2Lzz2vNbrfv"
      },
      "execution_count": null,
      "outputs": []
    },
    {
      "cell_type": "code",
      "source": [
        "X_train, X_test, y_train, y_test = train_test_split(X, y, test_size=0.20, random_state=42)"
      ],
      "metadata": {
        "id": "6UbGUvp8cOR0"
      },
      "execution_count": null,
      "outputs": []
    },
    {
      "cell_type": "code",
      "source": [
        "keras_tok = Tokenizer(num_words=5000)\n",
        "keras_tok.fit_on_texts(X_train)\n",
        "X_train = keras_tok.texts_to_sequences(X_train)\n",
        "X_test = keras_tok.texts_to_sequences(X_test)"
      ],
      "metadata": {
        "id": "_eDzgEQ8cQPI"
      },
      "execution_count": null,
      "outputs": []
    },
    {
      "cell_type": "code",
      "source": [
        "n_items =  {k: keras_tok.word_index[k] for k in list(keras_tok.word_index)[:20]}"
      ],
      "metadata": {
        "id": "bq4Vxa48cSc7"
      },
      "execution_count": null,
      "outputs": []
    },
    {
      "cell_type": "code",
      "source": [
        "maxlen = 100\n",
        "X_train = pad_sequences(X_train, padding='post', maxlen=maxlen)\n",
        "X_test = pad_sequences(X_test, padding='post', maxlen=maxlen)"
      ],
      "metadata": {
        "id": "Dgp6DfqNcZFe"
      },
      "execution_count": null,
      "outputs": []
    },
    {
      "cell_type": "code",
      "source": [
        "\"\"\"\n",
        "from numpy import array\n",
        "from numpy import asarray\n",
        "from numpy import zeros\n",
        "glove_embed_dic = dict()\n",
        "glove_embeds = open('/content/glove.6B.100d.txt', encoding=\"utf8\")\n",
        "for embed in glove_embeds:\n",
        "    embed_rec = embed.split()\n",
        "    word = embed_rec[0]\n",
        "    vector = asarray(embed_rec[1:], dtype='float32')\n",
        "    glove_embed_dic [word] = vector\n",
        "glove_embeds.close()\n",
        "\"\"\"\n",
        "\n",
        "# glove_embeds is a local file"
      ],
      "metadata": {
        "id": "eRIKYOPWkylH"
      },
      "execution_count": null,
      "outputs": []
    },
    {
      "cell_type": "code",
      "source": [
        "vocabulary_size = len(keras_tok.word_index) + 1\n",
        "input_words_embed = zeros((vocabulary_size , maxlen))\n",
        "for word, index in keras_tok.word_index.items():\n",
        "    embeddings = glove_embed_dic.get(word)\n",
        "    if embeddings is not None:\n",
        "        input_words_embed[index] = embeddings"
      ],
      "metadata": {
        "id": "lWQS0b08c91U"
      },
      "execution_count": null,
      "outputs": []
    },
    {
      "cell_type": "code",
      "source": [
        "raise Exception(\"Glove_embed_dic should not be empty. \")"
      ],
      "metadata": {
        "colab": {
          "base_uri": "https://localhost:8080/",
          "height": 169
        },
        "id": "GS_weCsOgEJF",
        "outputId": "6f5d1104-8f3d-4194-ada8-0dc61dad81e3"
      },
      "execution_count": null,
      "outputs": [
        {
          "output_type": "error",
          "ename": "Exception",
          "evalue": "ignored",
          "traceback": [
            "\u001b[0;31m---------------------------------------------------------------------------\u001b[0m",
            "\u001b[0;31mException\u001b[0m                                 Traceback (most recent call last)",
            "\u001b[0;32m<ipython-input-172-252db89ac508>\u001b[0m in \u001b[0;36m<module>\u001b[0;34m()\u001b[0m\n\u001b[0;32m----> 1\u001b[0;31m \u001b[0;32mraise\u001b[0m \u001b[0mException\u001b[0m\u001b[0;34m(\u001b[0m\u001b[0;34m\"a\"\u001b[0m\u001b[0;34m)\u001b[0m\u001b[0;34m\u001b[0m\u001b[0;34m\u001b[0m\u001b[0m\n\u001b[0m",
            "\u001b[0;31mException\u001b[0m: a"
          ]
        }
      ]
    },
    {
      "cell_type": "code",
      "source": [
        "shModel = Sequential()\n",
        "embedding_layer = Embedding(vocabulary_size, 100, weights=[input_words_embed], input_length=maxlen , trainable=False)\n",
        "shModel.add(embedding_layer)\n",
        "shModel.add(Flatten())\n",
        "shModel.add(Dense(1, activation='sigmoid'))"
      ],
      "metadata": {
        "id": "bc5ZaDk3ccEA"
      },
      "execution_count": null,
      "outputs": []
    },
    {
      "cell_type": "code",
      "source": [
        "shModel.compile(optimizer='adam', loss='binary_crossentropy', metrics=['acc'])\n",
        "shModel.fit(X_train, y_train, batch_size=64, epochs=50, verbose=1)"
      ],
      "metadata": {
        "id": "BP7znDJvdf3M"
      },
      "execution_count": null,
      "outputs": []
    },
    {
      "cell_type": "code",
      "source": [
        "result = shModel.evaluate(X_test, y_test, verbose=1)\n",
        "print(\"Test Accuracy:\", result[1])"
      ],
      "metadata": {
        "colab": {
          "base_uri": "https://localhost:8080/"
        },
        "id": "gEWgXgs3dlEE",
        "outputId": "e1cce32e-aa07-4bea-e135-8bf4cb0ca4f5"
      },
      "execution_count": null,
      "outputs": [
        {
          "output_type": "stream",
          "name": "stdout",
          "text": [
            "5/5 [==============================] - 0s 3ms/step - loss: 0.5571 - acc: 0.8788\n",
            "Test Accuracy: 0.8787878751754761\n"
          ]
        }
      ]
    },
    {
      "cell_type": "code",
      "source": [
        "text = \"Burger king\"\n",
        "shModel.predict(pad_sequences(keras_tok.texts_to_sequences([text]), padding='post', maxlen=maxlen))"
      ],
      "metadata": {
        "colab": {
          "base_uri": "https://localhost:8080/"
        },
        "id": "yi4RJPvBewrf",
        "outputId": "b302e16a-69ee-4fe6-8339-e39d1cde4d7e"
      },
      "execution_count": null,
      "outputs": [
        {
          "output_type": "stream",
          "name": "stdout",
          "text": [
            "1/1 [==============================] - 0s 44ms/step\n"
          ]
        },
        {
          "output_type": "execute_result",
          "data": {
            "text/plain": [
              "array([[0.6025125]], dtype=float32)"
            ]
          },
          "metadata": {},
          "execution_count": 166
        }
      ]
    },
    {
      "cell_type": "markdown",
      "source": [
        "# Fine tune NER for later use (IT WORKS!!!)\n",
        "Source: https://github.com/dmoonat/Named-Entity-Recognition/blob/main/Fine_tune_NER.ipynb <br>\n",
        "\n",
        "CPU Training time\n",
        "- Execution time: >2h (training included, 1 epoch) <br />\n",
        "\n",
        "GPU Training time\n",
        "- Execution time: ~7m (training included, pip install excluded) <br />\n",
        "- Training time: ~5m (3 epoch) <br />"
      ],
      "metadata": {
        "id": "ucyghRjgPTee"
      }
    },
    {
      "cell_type": "code",
      "source": [
        "# Define training epochs\n",
        "epochs = 1"
      ],
      "metadata": {
        "id": "gi2yN2ZWooWa"
      },
      "execution_count": 21,
      "outputs": []
    },
    {
      "cell_type": "code",
      "source": [
        "!pip install datasets -q\n",
        "!pip install tokenizers -q\n",
        "!pip install transformers -q\n",
        "!pip install seqeval -q"
      ],
      "metadata": {
        "id": "gpM-baYmPVuk"
      },
      "execution_count": 22,
      "outputs": []
    },
    {
      "cell_type": "markdown",
      "source": [
        "## Load the dataset\n",
        "\n",
        "Loading [Wikianng](https://huggingface.co/datasets/wikiann) english dataset"
      ],
      "metadata": {
        "id": "nrEWCFP-ZUqT"
      }
    },
    {
      "cell_type": "code",
      "source": [
        "from datasets import load_dataset\n",
        "\n",
        "dataset = load_dataset(\"wikiann\", \"en\")"
      ],
      "metadata": {
        "colab": {
          "base_uri": "https://localhost:8080/",
          "height": 66,
          "referenced_widgets": [
            "7c1e2933cf42498eb544184e0d383f86",
            "875f8043bf7d494ab7a0ff1048ea8974",
            "503ccbc86ca84405b46956310b63c181",
            "947013a1a77744399355fffd3a00bfe4",
            "9e0ef7d3147248ac93f95d210dfbc3ad",
            "923ac00dc526418ab4ddf407c078d283",
            "14648d6d07a14803ae234d6c7737a4f0",
            "566039d2b70c40ec9cfc26f631bd25e3",
            "13927e8f73de46408f59e31a9fdc269f",
            "705258550d1f43ef9022b3d35ae057e4",
            "ec80d4265c1544c9a73a5b5f89d7d053"
          ]
        },
        "id": "MPfV5DMHPiwO",
        "outputId": "a2d916ac-296c-40ca-a7d1-ea442903f19b"
      },
      "execution_count": 23,
      "outputs": [
        {
          "output_type": "stream",
          "name": "stderr",
          "text": [
            "Reusing dataset wikiann (/root/.cache/huggingface/datasets/wikiann/en/1.1.0/4bfd4fe4468ab78bb6e096968f61fab7a888f44f9d3371c2f3fea7e74a5a354e)\n"
          ]
        },
        {
          "output_type": "display_data",
          "data": {
            "text/plain": [
              "  0%|          | 0/3 [00:00<?, ?it/s]"
            ],
            "application/vnd.jupyter.widget-view+json": {
              "version_major": 2,
              "version_minor": 0,
              "model_id": "7c1e2933cf42498eb544184e0d383f86"
            }
          },
          "metadata": {}
        }
      ]
    },
    {
      "cell_type": "code",
      "source": [
        "label_names = dataset[\"train\"].features[\"ner_tags\"].feature.names"
      ],
      "metadata": {
        "id": "NvB33CiWPn2A"
      },
      "execution_count": 24,
      "outputs": []
    },
    {
      "cell_type": "markdown",
      "source": [
        "## Data preprocessing\n",
        "\n",
        "Afaik, only tokenization has been applied"
      ],
      "metadata": {
        "id": "5rzo50xIPz0H"
      }
    },
    {
      "cell_type": "code",
      "source": [
        "from transformers import AutoTokenizer\n",
        "tokenizer = AutoTokenizer.from_pretrained(\"distilbert-base-uncased\")"
      ],
      "metadata": {
        "id": "r_F91EqnPx9F"
      },
      "execution_count": null,
      "outputs": []
    },
    {
      "cell_type": "code",
      "source": [
        "def tokenize_function(examples):\n",
        "    return tokenizer(examples[\"tokens\"], padding=\"max_length\", truncation=True, is_split_into_words=True)"
      ],
      "metadata": {
        "id": "J3yYU1g_P3eT"
      },
      "execution_count": 26,
      "outputs": []
    },
    {
      "cell_type": "code",
      "source": [
        "tokenized_datasets_ = dataset.map(tokenize_function, batched=True)"
      ],
      "metadata": {
        "id": "QTO0aB1xP6NU"
      },
      "execution_count": null,
      "outputs": []
    },
    {
      "cell_type": "code",
      "source": [
        "# Get the values for input_ids, attention_mask, adjusted labels\n",
        "def tokenize_adjust_labels(all_samples_per_split):\n",
        "    tokenized_samples = tokenizer.batch_encode_plus(all_samples_per_split[\"tokens\"], is_split_into_words=True, truncation=True)\n",
        "  \n",
        "    total_adjusted_labels = []\n",
        "  \n",
        "    for k in range(0, len(tokenized_samples[\"input_ids\"])):\n",
        "        prev_wid = -1\n",
        "        word_ids_list = tokenized_samples.word_ids(batch_index=k)\n",
        "        existing_label_ids = all_samples_per_split[\"ner_tags\"][k]\n",
        "        i = -1\n",
        "        adjusted_label_ids = []\n",
        "   \n",
        "        for word_idx in word_ids_list:\n",
        "            # Special tokens have a word id that is None. We set the label to -100 so they are automatically\n",
        "            # ignored in the loss function.\n",
        "            if word_idx is None:\n",
        "                adjusted_label_ids.append(-100)\n",
        "            elif word_idx != prev_wid:\n",
        "                i += 1\n",
        "                adjusted_label_ids.append(existing_label_ids[i])\n",
        "                prev_wid = word_idx\n",
        "            else:\n",
        "                label_name = label_names[existing_label_ids[i]]\n",
        "                adjusted_label_ids.append(existing_label_ids[i])\n",
        "                \n",
        "        total_adjusted_labels.append(adjusted_label_ids)\n",
        "    \n",
        "    # Add adjusted labels to the tokenized samples\n",
        "    tokenized_samples[\"labels\"] = total_adjusted_labels\n",
        "    return tokenized_samples\n",
        "\n",
        "tokenized_dataset = dataset.map(tokenize_adjust_labels, batched=True, remove_columns=['tokens', 'ner_tags', 'langs', 'spans'])"
      ],
      "metadata": {
        "id": "o3U78NyXP882"
      },
      "execution_count": null,
      "outputs": []
    },
    {
      "cell_type": "code",
      "source": [
        "out = tokenizer(\"Fine tune NER in google colab!\")"
      ],
      "metadata": {
        "id": "1m-66CHpP_4V"
      },
      "execution_count": 29,
      "outputs": []
    },
    {
      "cell_type": "code",
      "source": [
        "from transformers import DataCollatorForTokenClassification\n",
        "data_collator = DataCollatorForTokenClassification(tokenizer)"
      ],
      "metadata": {
        "id": "K8KrXJc-QCXd"
      },
      "execution_count": 30,
      "outputs": []
    },
    {
      "cell_type": "markdown",
      "source": [
        "## Fine tuning"
      ],
      "metadata": {
        "id": "ofVXrswxQGCA"
      }
    },
    {
      "cell_type": "code",
      "source": [
        "import torch\n",
        "from torch.utils.data import DataLoader\n",
        "from transformers import AutoModelForTokenClassification, AdamW"
      ],
      "metadata": {
        "id": "ZzOkxgLAQEJH"
      },
      "execution_count": 31,
      "outputs": []
    },
    {
      "cell_type": "code",
      "source": [
        "# Check if gpu is present\n",
        "device = torch.device('cuda') if torch.cuda.is_available() else torch.device('cpu')"
      ],
      "metadata": {
        "id": "qM6jQuY2QJYL"
      },
      "execution_count": 32,
      "outputs": []
    },
    {
      "cell_type": "code",
      "source": [
        "model = AutoModelForTokenClassification.from_pretrained(\"distilbert-base-uncased\", num_labels=len(label_names))\n",
        "model.to(device)"
      ],
      "metadata": {
        "id": "zWYw40ajQL20"
      },
      "execution_count": null,
      "outputs": []
    },
    {
      "cell_type": "code",
      "source": [
        "import numpy as np\n",
        "from datasets import load_metric\n",
        "metric = load_metric(\"seqeval\")\n",
        "\n",
        "def compute_metrics(p):\n",
        "    predictions, labels = p\n",
        "\n",
        "    # Select predicted index with maximum logit for each token\n",
        "    predictions = np.argmax(predictions, axis=2)\n",
        "\n",
        "    # Remove ignored index (special tokens)\n",
        "    true_predictions = [\n",
        "        [label_names[p] for (p, l) in zip(prediction, label) if l != -100]\n",
        "        for prediction, label in zip(predictions, labels)\n",
        "    ]\n",
        "    true_labels = [\n",
        "        [label_names[l] for (p, l) in zip(prediction, label) if l != -100]\n",
        "        for prediction, label in zip(predictions, labels)\n",
        "    ]\n",
        "\n",
        "    results = metric.compute(predictions=true_predictions, references=true_labels)\n",
        "    return {\n",
        "        \"precision\": results[\"overall_precision\"],\n",
        "        \"recall\": results[\"overall_recall\"],\n",
        "        \"f1\": results[\"overall_f1\"],\n",
        "        \"accuracy\": results[\"overall_accuracy\"],\n",
        "    }"
      ],
      "metadata": {
        "id": "Bf7f7UjTQPWO"
      },
      "execution_count": 34,
      "outputs": []
    },
    {
      "cell_type": "code",
      "source": [
        "example = dataset[\"train\"][1]\n",
        "labels = [label_names[i] for i in example[f\"ner_tags\"]]\n",
        "metric.compute(predictions=[labels], references=[labels])"
      ],
      "metadata": {
        "id": "VsUnyzPqQUev",
        "colab": {
          "base_uri": "https://localhost:8080/"
        },
        "outputId": "0ec84863-30af-4daa-b71a-43592d65c85d"
      },
      "execution_count": 35,
      "outputs": [
        {
          "output_type": "execute_result",
          "data": {
            "text/plain": [
              "{'PER': {'f1': 1.0, 'number': 1, 'precision': 1.0, 'recall': 1.0},\n",
              " 'overall_accuracy': 1.0,\n",
              " 'overall_f1': 1.0,\n",
              " 'overall_precision': 1.0,\n",
              " 'overall_recall': 1.0}"
            ]
          },
          "metadata": {},
          "execution_count": 35
        }
      ]
    },
    {
      "cell_type": "markdown",
      "source": [
        "## Training the model\n",
        "\n",
        "```\n",
        "batch_size = 16\n",
        "epochs = 1  # previously defined\n",
        "```"
      ],
      "metadata": {
        "id": "NtMUA8tEZusg"
      }
    },
    {
      "cell_type": "code",
      "source": [
        "from transformers import TrainingArguments, Trainer\n",
        "\n",
        "batch_size = 16\n",
        "logging_steps = len(tokenized_dataset['train']) // batch_size\n",
        "\n",
        "training_args = TrainingArguments(\n",
        "    output_dir=\"/content/drive/MyDrive/bert-fine-tune-ner/results\",\n",
        "    num_train_epochs=epochs,\n",
        "    per_device_train_batch_size=batch_size,\n",
        "    per_device_eval_batch_size=batch_size,\n",
        "    evaluation_strategy=\"epoch\",\n",
        "    # disable_tqdm=False,\n",
        "    # logging_steps=logging_steps,\n",
        ")"
      ],
      "metadata": {
        "id": "nT4erLy3QWl5"
      },
      "execution_count": null,
      "outputs": []
    },
    {
      "cell_type": "code",
      "source": [
        "trainer = Trainer(\n",
        "    model=model,\n",
        "    args=training_args,\n",
        "    train_dataset=tokenized_dataset[\"train\"],\n",
        "    eval_dataset=tokenized_dataset[\"validation\"],\n",
        "    data_collator=data_collator,\n",
        "    tokenizer=tokenizer,\n",
        "    compute_metrics=compute_metrics,\n",
        ")"
      ],
      "metadata": {
        "id": "QegmrCVgQjUK"
      },
      "execution_count": 37,
      "outputs": []
    },
    {
      "cell_type": "markdown",
      "source": [
        "Need to optimize the model (too slow training)"
      ],
      "metadata": {
        "id": "NVXKtlP8UB4g"
      }
    },
    {
      "cell_type": "code",
      "source": [
        "# Fine tune using train method\n",
        "trainer.train()"
      ],
      "metadata": {
        "id": "Y--q-VPiQmZv"
      },
      "execution_count": null,
      "outputs": []
    },
    {
      "cell_type": "code",
      "source": [
        "trainer.evaluate()"
      ],
      "metadata": {
        "id": "XAuxhGd6QpHL"
      },
      "execution_count": null,
      "outputs": []
    },
    {
      "cell_type": "code",
      "source": [
        "predictions, labels, _ = trainer.predict(tokenized_dataset[\"test\"])\n",
        "predictions = np.argmax(predictions, axis=2)\n",
        "# Remove ignored index (special tokens)\n",
        "true_predictions = [\n",
        "    [label_names[p] for (p, l) in zip(prediction, label) if l != -100]\n",
        "    for prediction, label in zip(predictions, labels)\n",
        "]\n",
        "true_labels = [\n",
        "    [label_names[l] for (p, l) in zip(prediction, label) if l != -100]\n",
        "    for prediction, label in zip(predictions, labels)\n",
        "]\n",
        "results = metric.compute(predictions=true_predictions, references=true_labels)\n",
        "results"
      ],
      "metadata": {
        "id": "Wc9GBgTLQrxz"
      },
      "execution_count": null,
      "outputs": []
    },
    {
      "cell_type": "markdown",
      "source": [
        "# Testing the user intent model"
      ],
      "metadata": {
        "id": "dtA39kq7tiha"
      }
    },
    {
      "cell_type": "code",
      "source": [
        "from typing import List"
      ],
      "metadata": {
        "id": "0hbxJnqF6u-A"
      },
      "execution_count": 333,
      "outputs": []
    },
    {
      "cell_type": "code",
      "source": [
        "# P1: Što sve moram za prasku?\n",
        "# P2: Kojim redosljem idu faze prakse?\n",
        "# P3: Koliko traje praksa?\n",
        "# P4: Šta ako ne mogu doći na praksu?\n",
        "\n",
        "examples = [\n",
        "    { \"text\": \"Što sve moram za praksu?\", \"intent\": \"P1\"},\n",
        "    { \"text\": \"Kojim redosljem idu faze prakse?\", \"intent\": \"P2\"},\n",
        "    { \"text\": \"Koliko traje praksa?\", \"intent\": \"P3\"},\n",
        "    { \"text\": \"Šta ako ne mogu doći na praksu?\", \"intent\": \"P4\"},\n",
        "]\n",
        "\n",
        "def testIntentModel(intentModel) -> List[bool]:\n",
        "    \"\"\" Test the abovetrained model on some \"must work\" examples \"\"\"\n",
        "    text_examples = [e[\"text\"] for e in examples]\n",
        "    y_pred = intentModel.predict(text_examples, verbose=False)\n",
        "    return [codeToIntent(y) == examples[i][\"intent\"] for i, y in enumerate(y_pred)]\n",
        "\n",
        "# Aim to have as many Trues as possible\n",
        "testResults = testIntentModel(model_eng)\n",
        "\n",
        "print(f\"Results: {testResults}\")\n",
        "print(f\"All test passed: {all(testResults)}\")"
      ],
      "metadata": {
        "colab": {
          "base_uri": "https://localhost:8080/"
        },
        "id": "_llnKIpKtnBu",
        "outputId": "00ae12f8-3ac6-4f8e-cef7-88a15840960d"
      },
      "execution_count": 336,
      "outputs": [
        {
          "output_type": "stream",
          "name": "stdout",
          "text": [
            "Results: [False, True, True, False]\n",
            "All test passed: False\n"
          ]
        }
      ]
    },
    {
      "cell_type": "markdown",
      "source": [
        "# Using the user intent model\n",
        "\n",
        "Work in progress <br />\n",
        "\n",
        "TO DO:\n",
        "- Have process information in json\n",
        "- Improve the model accuracy\n",
        "- Implement harder tasks that require information extraction\n",
        "- Create a bot class"
      ],
      "metadata": {
        "id": "L_YBAEoYNNRg"
      }
    },
    {
      "cell_type": "code",
      "source": [
        "def predict_intent(text: str) -> str:\n",
        "    \"\"\" Predict the text intent based on the abovetrained model \"\"\"\n",
        "    return codeToIntent(model_eng.predict([text], verbose=False))"
      ],
      "metadata": {
        "id": "dHkY7dE17OAN"
      },
      "execution_count": 310,
      "outputs": []
    },
    {
      "cell_type": "code",
      "source": [
        "def getPhases(phases) -> str:\n",
        "    \"\"\" P1: Returns the formatted phases \"\"\"\n",
        "    phases = [p.lower() for p in phases]\n",
        "    return ', '.join(phases[:-1]) + ' i ' + phases[-1]"
      ],
      "metadata": {
        "id": "DBcKN30noaIC"
      },
      "execution_count": 311,
      "outputs": []
    },
    {
      "cell_type": "code",
      "source": [
        "def getPhasesOrder(phases) -> str:\n",
        "    \"\"\" P2: Returns the formatted ordered phases \"\"\"\n",
        "    return ''.join([f\"\\n{i}. {p.lower().capitalize()}\" for i, p in enumerate(phases)])"
      ],
      "metadata": {
        "id": "YOxMiF0vpn0j"
      },
      "execution_count": 337,
      "outputs": []
    },
    {
      "cell_type": "code",
      "source": [
        "json_process = 'Praksa'\n",
        "json_phases = ['Odabir preferencija', 'Ispunjavanje prijavnice', 'Predaja dnevnika prakse']\n",
        "json_duration = \"2 mjeseca\""
      ],
      "metadata": {
        "id": "H67umH94zriw"
      },
      "execution_count": 325,
      "outputs": []
    },
    {
      "cell_type": "code",
      "source": [
        "def print_result(intent) -> None:\n",
        "    \"\"\" Chatbot output messages based on intent \"\"\"\n",
        "    # P1: Koje su faze\n",
        "    if intent == 'P1':\n",
        "        print(f\"Faze procesa za proces '{json_process.lower()}' su: {getPhases(json_phases)}\")\n",
        "\n",
        "    # P2: Kojim redosljedom idu faze\n",
        "    elif intent == 'P2':\n",
        "        print(f\"Faze procesa '{json_process.lower()}' idu sljedećim redosljedom: {getPhasesOrder(json_phases)}\")\n",
        "\n",
        "    # P3: Koliko traje cijeli proces\n",
        "    elif intent == 'P3':\n",
        "        print(f\"Proces '{json_process.lower()}' traje {json_duration}\")\n",
        "\n",
        "    # P4: Ništa od navedenog\n",
        "    else:\n",
        "        print(\"Nažalost, ne razumijem Vaše pitanje\")"
      ],
      "metadata": {
        "id": "MG5JYZjHzdWY"
      },
      "execution_count": 314,
      "outputs": []
    },
    {
      "cell_type": "code",
      "source": [
        "def chatbot() -> None:\n",
        "    \"\"\" By: Rafael Krstačić \"\"\"\n",
        "    print(\"Za prekid razgovora unesi 'q'\")\n",
        "    while True:\n",
        "        user_input = input(\"\\n>>> \")\n",
        "        if user_input.lower() == \"q\":\n",
        "            break\n",
        "\n",
        "        print_result(predict_intent(user_input))\n",
        "    print(\"Doviđenja! ( ^_^)/\")\n"
      ],
      "metadata": {
        "id": "K-DAvcPfz0-K"
      },
      "execution_count": 330,
      "outputs": []
    },
    {
      "cell_type": "code",
      "source": [
        "# Examples that work as of 02/08/2022 21:00\n",
        "# P1: Napraviti praksu\n",
        "# P2: Kojim redosljem idu faze prakse?\n",
        "# P3: Koliko traje praksa?\n",
        "# P4: Šta je sastanak?\n",
        "chatbot()"
      ],
      "metadata": {
        "colab": {
          "base_uri": "https://localhost:8080/"
        },
        "id": "1aUBhTD9xdkj",
        "outputId": "ec32bd7b-9dd8-402b-f34a-ccf16ed26473"
      },
      "execution_count": 338,
      "outputs": [
        {
          "output_type": "stream",
          "name": "stdout",
          "text": [
            "Za prekid razgovora unesi 'q'\n",
            "\n",
            ">>> Kojim redosljem idu faze prakse?\n",
            "Faze procesa 'praksa' idu sljedećim redosljedom: \n",
            "0. Odabir preferencija\n",
            "1. Ispunjavanje prijavnice\n",
            "2. Predaja dnevnika prakse\n",
            "\n",
            ">>> q\n",
            "Doviđenja! ( ^_^)/\n"
          ]
        }
      ]
    },
    {
      "cell_type": "markdown",
      "source": [
        "# Using the second model (Not working)"
      ],
      "metadata": {
        "id": "KNr5OujotZb8"
      }
    },
    {
      "cell_type": "code",
      "source": [
        "import torch\n",
        "import pandas as pd\n",
        "import skimage.io as sk\n",
        "from torchvision import transforms\n",
        "import matplotlib.pyplot as plt\n",
        "from PIL import ImageTk, Image# Need to override __init__, __len__, __getitem__"
      ],
      "metadata": {
        "id": "fOwb5RJn-G7X"
      },
      "execution_count": null,
      "outputs": []
    },
    {
      "cell_type": "code",
      "source": [
        "customTest = pd.DataFrame({\n",
        "    'langs': ['en', 'en', 'en', 'en', 'en', 'en', 'en'],\n",
        "    'ner_tags': [1, 2, 2, 0, 0, 0, 0],\n",
        "    'tokens': ['Karl', 'Ove', 'Knausgård', '(', 'born', '1968', ')']\n",
        "})"
      ],
      "metadata": {
        "id": "yl90-jNL9_fm"
      },
      "execution_count": 65,
      "outputs": []
    },
    {
      "cell_type": "code",
      "source": [
        "# as per datasets requirement\n",
        "class CustomDataset(torch.utils.data.Dataset):\n",
        "    def __init__(self):\n",
        "        self.data = customTest\n",
        "        return\n",
        "\n",
        "    def __len__(self):\n",
        "        return len(self.data)\n",
        "\n",
        "    def __getitem__(self, idx):\n",
        "        return self.data"
      ],
      "metadata": {
        "id": "m7tqxv6T5_BY"
      },
      "execution_count": 66,
      "outputs": []
    },
    {
      "cell_type": "code",
      "source": [
        "tokenized_dataset[\"test\"][2]"
      ],
      "metadata": {
        "colab": {
          "base_uri": "https://localhost:8080/"
        },
        "id": "VTS9m91f851x",
        "outputId": "ca12e4ff-d692-4d33-a304-964edc9467a7"
      },
      "execution_count": 75,
      "outputs": [
        {
          "output_type": "execute_result",
          "data": {
            "text/plain": [
              "{'attention_mask': [1, 1, 1, 1, 1, 1],\n",
              " 'input_ids': [101, 2304, 4665, 2737, 2276, 102],\n",
              " 'labels': [-100, 3, 3, 4, 4, -100]}"
            ]
          },
          "metadata": {},
          "execution_count": 75
        }
      ]
    },
    {
      "cell_type": "markdown",
      "source": [
        "TODO: find a way to put the data in dataset, tokenize it and pass to the model"
      ],
      "metadata": {
        "id": "jl7nm_5RALPC"
      }
    }
  ]
}